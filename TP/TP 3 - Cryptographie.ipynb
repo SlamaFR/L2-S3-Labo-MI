{
 "cells": [
  {
   "cell_type": "markdown",
   "metadata": {},
   "source": [
    "# TP 3 : Cryptographie"
   ]
  },
  {
   "cell_type": "markdown",
   "metadata": {},
   "source": [
    "L'objectif de ce TP est de programmer le chiffrement affine, son déchiffrement et son attaque par force brute."
   ]
  },
  {
   "cell_type": "markdown",
   "metadata": {},
   "source": [
    "## 1. Calcul d'une bijection réciproque (sur un ensemble fini)"
   ]
  },
  {
   "cell_type": "markdown",
   "metadata": {},
   "source": [
    "On choisit de représenter une bijection $\\varphi$ sur $\\{0, \\ldots, n \\}$ par la liste de ses images $\\varphi(0), \\ldots, \\varphi(n)$.\n",
    "\n",
    "Par exemple, la bijection $\\varphi$ sur $\\{0, \\ldots, 3 \\}$ telle que $\\varphi(0)=1$, $\\varphi(1)=3$, $\\varphi(2) = 0$, $\\varphi(3)=2$ est représentée par la liste `[1,3,0,2]`."
   ]
  },
  {
   "cell_type": "markdown",
   "metadata": {},
   "source": [
    "- Ecrire une fonction `bijection_reciproque` qui prend en paramètre une bijection sur $\\{0, \\ldots, n \\}$ et renvoie la bijection réciproque."
   ]
  },
  {
   "cell_type": "code",
   "execution_count": 1,
   "metadata": {
    "pycharm": {
     "is_executing": false
    }
   },
   "outputs": [],
   "source": [
    "def bijection_reciproque(bijection: list):\n",
    "    \"\"\"\n",
    "    Calculer la bijection réciproque.\n",
    "    :param bijection: Bijection de départ.\n",
    "    :return: Bijection réciproque.\n",
    "    \"\"\"\n",
    "    reciproque = [0] * len(bijection)\n",
    "    for i in range(len(bijection)):\n",
    "        reciproque[bijection[i]] = i\n",
    "    return reciproque"
   ]
  },
  {
   "cell_type": "markdown",
   "metadata": {},
   "source": [
    "- Tester la fonction `bijection_reciproque` sur un exemple."
   ]
  },
  {
   "cell_type": "code",
   "execution_count": 2,
   "metadata": {
    "pycharm": {
     "is_executing": false
    }
   },
   "outputs": [
    {
     "data": {
      "text/plain": "[2, 0, 3, 1]"
     },
     "metadata": {},
     "output_type": "execute_result",
     "execution_count": 2
    }
   ],
   "source": [
    "bijection_reciproque([1, 3, 0, 2])"
   ]
  },
  {
   "cell_type": "markdown",
   "metadata": {},
   "source": [
    "## 2. Chiffrement et déchiffrement par substitution mono-alphabétique\n"
   ]
  },
  {
   "cell_type": "markdown",
   "source": [
    "On utilisera la bijection suivante par la suite :\n",
    "\n",
    "`[21, 6, 23, 7, 3, 1, 9, 10, 12, 25, 5, 15, 0, 4, 17, 11, 2, 19, 24, 13, 8, 14, 22, 16, 18, 20]`"
   ],
   "metadata": {
    "collapsed": false,
    "pycharm": {
     "name": "#%% md\n"
    }
   }
  },
  {
   "cell_type": "code",
   "execution_count": 3,
   "outputs": [],
   "source": [
    "BIJECTION = [21, 6, 23, 7, 3, 1, 9, 10, 12, 25, 5, 15, 0, 4, 17, 11, 2, 19, 24, 13, 8, 14, 22, 16, 18, 20]\n",
    "ALPHABET = \"ABCDEFGHIJKLMNOPQRSTUVWXYZ\""
   ],
   "metadata": {
    "collapsed": false,
    "pycharm": {
     "name": "#%%\n",
     "is_executing": false
    }
   }
  },
  {
   "cell_type": "markdown",
   "metadata": {},
   "source": [
    "- Ecrire une fonction `chiffre` qui chiffre un message par substitution monoalphabétique. Elle prendra en paramètres `phi`, la bijection caractérisant la substitution, et `text`, le message  à chiffrer."
   ]
  },
  {
   "cell_type": "code",
   "execution_count": 4,
   "metadata": {
    "pycharm": {
     "is_executing": false
    }
   },
   "outputs": [],
   "source": [
    "def chiffre(phi: list, text: str):\n",
    "    \"\"\"\n",
    "    Chiffrer un texte.\n",
    "    :param phi: Bijection de substitution.\n",
    "    :param text: Message à chiffrer.\n",
    "    :return: Texte chiffré.\n",
    "    \"\"\"\n",
    "    result = \"\"\n",
    "    for letter in text.upper():\n",
    "        result += ALPHABET[phi[ALPHABET.index(letter)]]\n",
    "    return result"
   ]
  },
  {
   "cell_type": "markdown",
   "metadata": {},
   "source": [
    "- Ecrire une fonction `dechiffre` qui déchiffre un message chiffré par substitution monoalphabétique. Elle prendra en paramètres `phi`, la bijection caractérisant la substitution, et `text`, le message à déchiffrer."
   ]
  },
  {
   "cell_type": "code",
   "execution_count": 5,
   "metadata": {
    "pycharm": {
     "is_executing": false
    }
   },
   "outputs": [],
   "source": [
    "def dechiffre(phi: list, text: str):\n",
    "    \"\"\"\n",
    "    Déhiffrer un texte.\n",
    "    :param phi: Bijection de substitution.\n",
    "    :param text: Message à déchiffrer.\n",
    "    :return: Texte déchiffré.\n",
    "    \"\"\"\n",
    "    return chiffre(bijection_reciproque(phi), text)"
   ]
  },
  {
   "cell_type": "markdown",
   "metadata": {},
   "source": [
    "- Tester les fonctions `chiffre` et `dechiffre` sur un exemple."
   ]
  },
  {
   "cell_type": "code",
   "execution_count": 6,
   "metadata": {
    "pycharm": {
     "is_executing": false
    }
   },
   "outputs": [
    {
     "name": "stdout",
     "text": [
      "1. BONJOUR = GREZRIT\n2. GREZRIT = BONJOUR\n"
     ],
     "output_type": "stream"
    }
   ],
   "source": [
    "print(\"1. BONJOUR =\", chiffre(BIJECTION, \"bonjour\"))\n",
    "\n",
    "print(\"2. GREZRIT =\", dechiffre(BIJECTION, \"grezrit\"))"
   ]
  },
  {
   "cell_type": "markdown",
   "metadata": {},
   "source": [
    "## 3. Chiffrement et déchiffrement affine"
   ]
  },
  {
   "cell_type": "markdown",
   "metadata": {},
   "source": [
    "- Ecrire une fonction `chiffre_affine` qui chiffre un message par chiffrement affine. Elle prendra en paramètres `(a,b)`, la clé de chiffrement, et `text`, le message à chiffrer."
   ]
  },
  {
   "cell_type": "code",
   "execution_count": 7,
   "metadata": {
    "pycharm": {
     "is_executing": false
    }
   },
   "outputs": [],
   "source": [
    "def chiffre_affine(key: tuple, text: str):\n",
    "    \"\"\"\n",
    "    Chiffrer un message par bijection affine.\n",
    "    :param key: Coefficient de la fonction affine.\n",
    "    :param text: Texte à chiffrer.\n",
    "    :return: Texte chiffré.\n",
    "    \"\"\"\n",
    "    a, b = key\n",
    "    def phi(i: int):\n",
    "        return (a * i + b) % 26\n",
    "    result = \"\"\n",
    "    for letter in text.upper():\n",
    "        result += ALPHABET[phi(ALPHABET.index(letter))]\n",
    "    return result"
   ]
  },
  {
   "cell_type": "markdown",
   "metadata": {},
   "source": [
    "- Ecrire une fonction `dechiffre_affine` qui déchiffre un message chiffré par chiffrement affine. Elle prendra en paramètres `(a,b)`, la clé de chiffrement, et `text`, le message à déchiffrer."
   ]
  },
  {
   "cell_type": "code",
   "execution_count": 8,
   "metadata": {
    "pycharm": {
     "is_executing": false
    }
   },
   "outputs": [],
   "source": [
    "def dechiffre_affine(key: tuple, text: str):\n",
    "    \"\"\"\n",
    "    Déchiffrer un message par bijection affine.\n",
    "    :param key: Coefficient de la fonction affine.\n",
    "    :param text: Texte à déchiffrer.\n",
    "    :return: Texte déchiffré.\n",
    "    \"\"\"\n",
    "    a, b = key\n",
    "    c = 0\n",
    "    while (a * c) % 26 != 1:\n",
    "        c+=1\n",
    "    def phi(i: int):\n",
    "        return c * (i - b) % 26\n",
    "    result = \"\"\n",
    "    for letter in text.upper():\n",
    "        result += ALPHABET[phi(ALPHABET.index(letter))]\n",
    "    return result"
   ]
  },
  {
   "cell_type": "markdown",
   "metadata": {},
   "source": [
    "- Tester les fonctions `chiffre_affine` et `dechiffre_affine` sur un exemple."
   ]
  },
  {
   "cell_type": "code",
   "execution_count": 9,
   "metadata": {
    "pycharm": {
     "is_executing": false
    }
   },
   "outputs": [
    {
     "name": "stdout",
     "text": [
      "1. BONJOUR = MZUAZDO\n2. MZUAZDO = BONJOUR\n"
     ],
     "output_type": "stream"
    }
   ],
   "source": [
    "print(\"1. BONJOUR =\", chiffre_affine((5, 7), \"bonjour\"))\n",
    "print(\"2. MZUAZDO =\", dechiffre_affine((5, 7), \"mzuazdo\"))"
   ]
  },
  {
   "cell_type": "markdown",
   "metadata": {},
   "source": [
    "## 4. Attaque par force brute d'un chiffrement affine"
   ]
  },
  {
   "cell_type": "markdown",
   "metadata": {},
   "source": [
    "On a démontré en TD qu'il n'y avait que 312 chiffrements affines possibles. Il est donc possible de procéder à une attaque par force brute pour décrypter un message chiffré par un chiffrement affine dont on ne possède pas la clé.\n",
    "\n",
    "On parcourt les 312 clés de chiffrement. Pour chaque clé, on déchiffre le message, puis on teste s'il est intelligible (dans une langue donnée). Pour cela, on compte le nombre de mots de la langue présents dans le message.\n",
    "\n",
    "Sur la page du cours, on trouvera un fichier `dicofr.txt` contenant une liste de référence de mots de la langue française."
   ]
  },
  {
   "cell_type": "markdown",
   "metadata": {},
   "source": [
    "- Lire et stocker dans une liste le contenu du fichier `dicofr.txt`."
   ]
  },
  {
   "cell_type": "code",
   "execution_count": 10,
   "metadata": {
    "pycharm": {
     "is_executing": false
    }
   },
   "outputs": [],
   "source": [
    "words = open(\"dicofr.txt\", \"r\").readlines()"
   ]
  },
  {
   "cell_type": "markdown",
   "metadata": {},
   "source": [
    "- Décrypter le message `ORLLPCFOJSLKRLGTJOJCLKROPZSJVCRWORLLRCSVJCDJRZEKZCROPCFZRZEVJCJSJCR`sachant qu'il s'agit d'un message écrit en français et chiffré avec un chiffrement affine"
   ]
  },
  {
   "cell_type": "code",
   "execution_count": 11,
   "metadata": {
    "pycharm": {
     "is_executing": false
    }
   },
   "outputs": [
    {
     "name": "stdout",
     "text": [
      "Coefficient : 7 x + 15\nMessage déchiffré : LESSANGLOTSDESVIOLONSDELAUTOMNEBLESSENTMONCOEURDUNELANGUEURMONOTONE\n"
     ],
     "output_type": "stream"
    }
   ],
   "source": [
    "message = \"ORLLPCFOJSLKRLGTJOJCLKROPZSJVCRWORLLRCSVJCDJRZEKZCROPCFZRZEVJCJSJCR\"\n",
    "\n",
    "results = list()\n",
    "i_solution = 0\n",
    "j_solution = 0\n",
    "words_maximum = 0\n",
    "resolved_message = \"\"\n",
    "\n",
    "for i in range(1, 26, 2):\n",
    "    if i == 13: continue\n",
    "    for j in range(26):\n",
    "        result = dechiffre_affine((i, j), message)\n",
    "        words_count = 0\n",
    "        for word in words:\n",
    "            if word.strip() in result:\n",
    "                words_count += 1\n",
    "        if words_count > words_maximum:\n",
    "            words_maximum = words_count\n",
    "            i_solution = i\n",
    "            j_solution = j\n",
    "            resolved_message = result\n",
    "            \n",
    "        \n",
    "print(\"Coefficient : {} x + {}\".format(i_solution, j_solution))\n",
    "print(\"Message déchiffré :\", resolved_message)"
   ]
  }
 ],
 "metadata": {
  "kernelspec": {
   "display_name": "Python 3",
   "language": "python",
   "name": "python3"
  },
  "language_info": {
   "codemirror_mode": {
    "name": "ipython",
    "version": 3
   },
   "file_extension": ".py",
   "mimetype": "text/x-python",
   "name": "python",
   "nbconvert_exporter": "python",
   "pygments_lexer": "ipython3",
   "version": "3.6.5"
  },
  "pycharm": {
   "stem_cell": {
    "cell_type": "raw",
    "source": [],
    "metadata": {
     "collapsed": false
    }
   }
  }
 },
 "nbformat": 4,
 "nbformat_minor": 1
}