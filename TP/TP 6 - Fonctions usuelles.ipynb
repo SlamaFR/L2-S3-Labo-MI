{
 "cells": [
  {
   "cell_type": "markdown",
   "metadata": {},
   "source": [
    "# TP 6 : Fonctions usuelles"
   ]
  },
  {
   "cell_type": "markdown",
   "metadata": {},
   "source": [
    "L'objectif de ce TP est de programmer le calcul de certaines fonctions mathématiques usuelles."
   ]
  },
  {
   "cell_type": "markdown",
   "metadata": {},
   "source": [
    "## 1. Calcul de la racine carrée"
   ]
  },
  {
   "cell_type": "markdown",
   "metadata": {},
   "source": [
    "- Ecrire une fonction `mysqrt` qui calcule la racine carrée d'un nombre $x$ en utilisant la méthode de Newton. On choisira une valeur initiale qui garantit la convergence de la méthode vers $\\sqrt{x}$ pour n'importe quel $x \\geq 0$. On arrêtera les itérations dès qu'on dépassera 100 itérations ou dès que l'erreur relative entre les valeurs de deux itérations successives sera inférieure à $2 \\times 10^{-16}$ (autrement dit, dès que $|x_{k+1}-x_k|<2 \\times 10^{-16} |x_{k+1}|$)."
   ]
  },
  {
   "cell_type": "code",
   "execution_count": 1,
   "metadata": {},
   "outputs": [],
   "source": [
    "def mysqrt(x: int, n: int = 100):\n",
    "    a = x\n",
    "    f = lambda x: (x + a / x) / 2\n",
    "    x1 = f(x)\n",
    "    while abs(x1 - x) >= 2e-16 * abs(x1) and n:\n",
    "        x = x1\n",
    "        x1 = f(x)\n",
    "        n -= 1\n",
    "    return x"
   ]
  },
  {
   "cell_type": "markdown",
   "metadata": {},
   "source": [
    "- Calculer l'erreur relative entre la valeur calculée par cette fonction `mysqrt` et la fonction `sqrt` du module `math` pour $\\sqrt{5},\\sqrt{10},\\ldots,\\sqrt{100}$."
   ]
  },
  {
   "cell_type": "code",
   "execution_count": 2,
   "metadata": {
    "scrolled": true
   },
   "outputs": [
    {
     "name": "stdout",
     "output_type": "stream",
     "text": [
      "Tests avec mysqrt :\n",
      "  √5 = 2.23606797749979\n",
      " √10 = 3.162277660168379\n",
      "√100 = 10.0\n",
      "\n",
      "Erreurs relatives :\n",
      "  √5 = 0.0\n",
      " √10 = -1.4043333874306804e-16\n",
      "√100 = 0.0\n"
     ]
    }
   ],
   "source": [
    "from math import sqrt\n",
    "\n",
    "print(\"Tests avec mysqrt :\")\n",
    "print(\"  √5 =\", mysqrt(5))\n",
    "print(\" √10 =\", mysqrt(10))\n",
    "print(\"√100 =\", mysqrt(100))\n",
    "print(\"\\nErreurs relatives :\")\n",
    "print(\"  √5 =\", (mysqrt(5) - sqrt(5)) / sqrt(5))\n",
    "print(\" √10 =\", (mysqrt(10) - sqrt(10)) / sqrt(10))\n",
    "print(\"√100 =\", (mysqrt(100) - sqrt(100)) / sqrt(100))"
   ]
  },
  {
   "cell_type": "markdown",
   "metadata": {},
   "source": [
    "- Ecrire une variante de la fonction `mysqrt` qui affiche la valeur calculée à chaque itération. Tester cette fonction sur le calcul de $\\sqrt{2}$. L'évolution du nombre de décimales correctes est-elle conforme à ce qui a été démontré en TD ?"
   ]
  },
  {
   "cell_type": "code",
   "execution_count": 3,
   "metadata": {},
   "outputs": [],
   "source": [
    "def mysqrt2(x: int, n: int = 100):\n",
    "    a = x\n",
    "    f = lambda x: (x + a / x) / 2\n",
    "    x1 = f(x)\n",
    "    while abs(x1 - x) >= 2e-16 * abs(x1) and n:\n",
    "        print(f(x))\n",
    "        x = x1\n",
    "        x1 = f(x)\n",
    "        n -= 1\n",
    "    return x"
   ]
  },
  {
   "cell_type": "code",
   "execution_count": 4,
   "metadata": {},
   "outputs": [
    {
     "name": "stdout",
     "output_type": "stream",
     "text": [
      "1.5\n",
      "1.4166666666666665\n",
      "1.4142156862745097\n",
      "1.4142135623746899\n",
      "1.414213562373095\n",
      "√2 = 1.414213562373095\n"
     ]
    }
   ],
   "source": [
    "print(\"√2 =\", mysqrt2(2))"
   ]
  },
  {
   "cell_type": "markdown",
   "metadata": {},
   "source": [
    "*On observe bien un doublement du nombre de décimales correctes à chaque nouvelle itération, comme démontré en TD.*"
   ]
  },
  {
   "cell_type": "markdown",
   "metadata": {},
   "source": [
    "## 2. Calcul de l'exponentielle"
   ]
  },
  {
   "cell_type": "markdown",
   "metadata": {},
   "source": [
    "- Ecrire une fonction `range_reduction_exp` qui prend en paramètre un réel `x` et renvoie le réel `r` et l'entier `k`tels que\n",
    "$$\n",
    "x = k \\ln(2) + r.\n",
    "$$\n",
    "où $r \\in [0,\\ln(2)[$.\n",
    "\n",
    "    On utilisera la valeur approchée suivante de $\\ln(2)$ :\n",
    "$$\\ln(2) \\approx 0.6931471805599453.$$\n",
    "    On pourra utiliser l'opérateur `%` et la fonction `floor` du module `math`."
   ]
  },
  {
   "cell_type": "code",
   "execution_count": 5,
   "metadata": {},
   "outputs": [],
   "source": [
    "from math import floor\n",
    "\n",
    "LN2 = 0.6931471805599453\n",
    "\n",
    "def range_reduction_exp(x: float):\n",
    "    return floor(x / LN2), x % LN2"
   ]
  },
  {
   "cell_type": "markdown",
   "metadata": {},
   "source": [
    "- Ecrire une fonction `myexp` qui calcule l'exponentielle d'un nombre $x$ en utilisant un développement de Taylor combiné à une réduction d'intervalle (comme décrit en TD). Essayer de calculer la somme des termes du développement Taylor du plus petit au plus grand. Cela donne-t-il des meilleurs résultats que le calcul du plus grand au plus petit ?"
   ]
  },
  {
   "cell_type": "code",
   "execution_count": 6,
   "metadata": {},
   "outputs": [
    {
     "name": "stdout",
     "output_type": "stream",
     "text": [
      "n0 = 18\n"
     ]
    }
   ],
   "source": [
    "from math import factorial\n",
    "\n",
    "n0 = 0\n",
    "while factorial(n0 + 1) < 2e16:\n",
    "    n0 += 1\n",
    "\n",
    "print(\"n0 =\", n0)"
   ]
  },
  {
   "cell_type": "code",
   "execution_count": 7,
   "metadata": {},
   "outputs": [],
   "source": [
    "def myexp(x: float):\n",
    "    k, r = range_reduction_exp(x)\n",
    "    n = 1 + r / n0\n",
    "    for i in range(n0 - 1, 0, -1):\n",
    "        n = 1 + n * r / i\n",
    "    return 2 ** k * n"
   ]
  },
  {
   "cell_type": "markdown",
   "metadata": {},
   "source": [
    "- Calculer l'erreur relative entre la valeur calculée par la fonction `myexp` et la valeur calculé par la fonction `exp` du module `math` pour $e^{-20},e^{-15},\\ldots,e^{15},e^{20}$."
   ]
  },
  {
   "cell_type": "code",
   "execution_count": 8,
   "metadata": {},
   "outputs": [
    {
     "name": "stdout",
     "output_type": "stream",
     "text": [
      "2.0611536224385566e-09\n",
      "3.0590232050182563e-07\n",
      "4.5399929762484834e-05\n",
      "0.006737946999085466\n",
      "1.0\n",
      "148.41315910257663\n",
      "22026.465794806725\n",
      "3269017.372472112\n",
      "485165195.40979064\n"
     ]
    }
   ],
   "source": [
    "print(myexp(-20))\n",
    "print(myexp(-15))\n",
    "print(myexp(-10))\n",
    "print(myexp(-5))\n",
    "print(myexp(0))\n",
    "print(myexp(5))\n",
    "print(myexp(10))\n",
    "print(myexp(15))\n",
    "print(myexp(20))"
   ]
  },
  {
   "cell_type": "markdown",
   "metadata": {},
   "source": [
    "## 3. Calcul des racines n-ièmes"
   ]
  },
  {
   "cell_type": "markdown",
   "metadata": {},
   "source": [
    "- En s'inspirant de ce qui a été fait pour le calcul de la racine carrée, écrire une fonction `mynthroot` qui calcule la racine n-ième en utilisant la méthode de Newton."
   ]
  },
  {
   "cell_type": "code",
   "execution_count": 9,
   "metadata": {},
   "outputs": [],
   "source": [
    "def mynthroot(x: int, p: int, n: int = 100):\n",
    "    a = x\n",
    "    f = lambda x: x - ((x ** p - a) / (p * x ** (p - 1)))\n",
    "    x1 = f(x)\n",
    "    while abs(x1 - x) >= 2e-16 * abs(x1) and n:\n",
    "        x = x1\n",
    "        x1 = f(x)\n",
    "        n -= 1\n",
    "    return x"
   ]
  },
  {
   "cell_type": "markdown",
   "metadata": {},
   "source": [
    "- Calculer l'erreur relative entre la valeur calculée par cette fonction `mynthroot` et celle calcule à l'aide de la fonction `pow` du module `math` pour $\\sqrt[3]{5},\\sqrt[3]{10},\\ldots,\\sqrt[3]{100}$."
   ]
  },
  {
   "cell_type": "code",
   "execution_count": 10,
   "metadata": {
    "scrolled": true
   },
   "outputs": [
    {
     "name": "stdout",
     "output_type": "stream",
     "text": [
      "Tests avec mysqrt :\n",
      "  3√5 = 1.709975946676697\n",
      " 3√10 = 2.154434690031884\n",
      "3√100 = 4.641588833612779\n",
      "\n",
      "Erreurs relatives :\n",
      "  3√5 = 1.298524726950519e-16\n",
      " 3√10 = 0.0\n",
      "3√100 = 1.9135223983396478e-16\n"
     ]
    }
   ],
   "source": [
    "print(\"Tests avec mysqrt :\")\n",
    "print(\"  3√5 =\", mynthroot(5, 3))\n",
    "print(\" 3√10 =\", mynthroot(10, 3))\n",
    "print(\"3√100 =\", mynthroot(100, 3))\n",
    "print(\"\\nErreurs relatives :\")\n",
    "print(\"  3√5 =\", (mynthroot(5, 3) - (5 ** (1 / 3))) / (5 ** (1 / 3)))\n",
    "print(\" 3√10 =\", (mynthroot(10, 3) - (10 ** (1 / 3))) / (10 ** (1 / 3)))\n",
    "print(\"3√100 =\", (mynthroot(100, 3) - (100 ** (1 / 3))) / (100 ** (1 / 3)))"
   ]
  },
  {
   "cell_type": "markdown",
   "metadata": {},
   "source": [
    "## 4. Calcul de la racine carrée par dichotomie"
   ]
  },
  {
   "cell_type": "markdown",
   "metadata": {},
   "source": [
    "La méthode de dichotomie est une méthode itérative de résolution des équations du type $f(x)=0$. \n",
    "\n",
    "Elle consiste à construire une suite d'encadrements de plus en plus précis de la solution de l'équation. On part d'un intervalle $[a,b]$ tel que $f(a)f(b)\\leq 0$, ce qui garantit l'existence d'une solution sur cet intervalle. On divise l'intervalle $[a,b]$ en deux intervalles de même longueur $[a,c]$ et $[c,b]$.\n",
    "\n",
    "* Si $f(a)f(c) \\le 0$, il existe nécessairement une solution dans l'intervalle $[a,c]$ d'après le théorème des valeurs intermédiaires. On peut alors répéter l'opération de division sur l'intervalle $[a,c]$\n",
    "* Si $f(a)f(c) > 0$, alors nécessairement $f(c)f(b) \\le 0$. Il existe donc une solution dans l'intervalle $[c,b]$, toujours d'après le théorème des valeurs intermédiaires. On peut alors répéter l'opération de division sur l'intervalle $[c,b]$.\n",
    "\n",
    "**Exemple**. Equation $x^2-2=0$. Encadrements obtenus par la méthode de dichotomie en partant de l'intervalle $[1,2]$ :\n",
    "~~~\n",
    "1.0 2\n",
    "1.0 1.5\n",
    "1.25 1.5\n",
    "1.375 1.5\n",
    "1.375 1.4375\n",
    "...\n",
    "~~~"
   ]
  },
  {
   "cell_type": "markdown",
   "metadata": {},
   "source": [
    "- Ecrire une fonction `dicho` qui résout une équation du type $f(x)=0$ par la méthode de dichotomie. Elle prendra comme paramètres : `f`, la fonction de l'équation ; `a` et `b`, les bornes de l'intervalle initial ; `niter`, le nombre d'itérations. Elle affichera les différents encadrement calculés et renverra l'encadrement final (sous forme d'un couple)."
   ]
  },
  {
   "cell_type": "code",
   "execution_count": 11,
   "metadata": {
    "scrolled": true
   },
   "outputs": [],
   "source": [
    "def dicho(f: callable, a: float, b: float, niter: int):\n",
    "    c = (a + b) / 2\n",
    "    if not niter:\n",
    "        return c\n",
    "    if f(a) * f(c) <= 0:\n",
    "        return dicho(f, a, c, niter - 1)\n",
    "    else:\n",
    "        return dicho(f, c, b, niter - 1)"
   ]
  },
  {
   "cell_type": "markdown",
   "metadata": {},
   "source": [
    "- Appliquer la fonction `dicho` à l'équation $x^2-2=0$ en partant de l'intervalle $[1,2]$ avec 20 itérations."
   ]
  },
  {
   "cell_type": "code",
   "execution_count": 12,
   "metadata": {},
   "outputs": [
    {
     "data": {
      "text/plain": [
       "1.4142136573791504"
      ]
     },
     "execution_count": 12,
     "metadata": {},
     "output_type": "execute_result"
    }
   ],
   "source": [
    "dicho(lambda x: x ** 2 - 2, 1, 2, 20)"
   ]
  },
  {
   "cell_type": "markdown",
   "metadata": {},
   "source": [
    "- En moyenne, combien d'itérations faut-il pour gagner une décimale correcte supplémentaire ?"
   ]
  },
  {
   "cell_type": "markdown",
   "metadata": {},
   "source": [
    "*Il faut un peu plus de 3 itérations pour gagner une décimale correcte.*"
   ]
  }
 ],
 "metadata": {
  "kernelspec": {
   "display_name": "Python 3",
   "language": "python",
   "name": "python3"
  },
  "language_info": {
   "codemirror_mode": {
    "name": "ipython",
    "version": 3
   },
   "file_extension": ".py",
   "mimetype": "text/x-python",
   "name": "python",
   "nbconvert_exporter": "python",
   "pygments_lexer": "ipython3",
   "version": "3.7.3"
  }
 },
 "nbformat": 4,
 "nbformat_minor": 1
}
