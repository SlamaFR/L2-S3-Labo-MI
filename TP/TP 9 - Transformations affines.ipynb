{
 "cells": [
  {
   "cell_type": "markdown",
   "metadata": {},
   "source": [
    "# TP 9 : Transformations affines du plan"
   ]
  },
  {
   "cell_type": "markdown",
   "metadata": {},
   "source": [
    "Dans ce TP, on souhaite programmer quelques classes élémentaires permettant de programmer des calculs sur des points et des vecteurs du plan, ainsi que les principales transformations affines du plan (rotations et translations).\n",
    "\n",
    "Pour illustrer les applications possibles, on propose pour terminer le TP une ébauche de jeu vidéo 2D dans le style du cours de Programmation Web de L1 (voir la partie 4). Dans ce programme est implémenté le déplacement (activé par les touches de direction) d'un \"vaisseau spatial\" représenté par un polygone.\n",
    "\n",
    "Comme dans la feuille d'exercices de TD, on assimilera le point $M=O + x \\vec{i} + y \\vec {j}$ au *vecteur* $\\begin{bmatrix}x\\\\y\\end{bmatrix}$. "
   ]
  },
  {
   "cell_type": "markdown",
   "metadata": {},
   "source": [
    "## 1. Vecteurs\n",
    "\n",
    "- Compléter le code de la classe `Vecteur2D` suivante de manière à ce que tous les doctests fonctionnent."
   ]
  },
  {
   "cell_type": "code",
   "execution_count": 1,
   "metadata": {
    "pycharm": {
     "is_executing": false
    }
   },
   "outputs": [],
   "source": [
    "from math import sqrt\n",
    "\n",
    "class Vecteur2D:\n",
    "    \"\"\"Classe permettant de représenter des vecteurs du plan.\n",
    "    \n",
    "    >>> Vecteur2D()\n",
    "    Vecteur2D(0, 0)\n",
    "    \n",
    "    >>> Vecteur2D(2, 0) + Vecteur2D(1, 2)\n",
    "    Vecteur2D(3, 2)\n",
    "    \n",
    "    >>> Vecteur2D(1, 2) * 2\n",
    "    Vecteur2D(2, 4)\n",
    "\n",
    "    >>> -Vecteur2D(1, 2)\n",
    "    Vecteur2D(-1, -2)\n",
    "    \n",
    "    >>> abs(Vecteur2D(3, 4))\n",
    "    5.0\n",
    "    \"\"\"\n",
    "    def __init__(self, x=0, y=0):\n",
    "        self.x = x\n",
    "        self.y = y\n",
    "    \n",
    "    def __repr__(self):\n",
    "        return \"Vecteur2D({}, {})\".format(self.x, self.y)\n",
    "    \n",
    "    def __add__(self, other):\n",
    "        \"\"\"Addition vectorielle.\"\"\"\n",
    "        if isinstance(other, Vecteur2D):\n",
    "            return Vecteur2D(self.x + other.x, self.y + other.y)\n",
    "        else:\n",
    "            raise TypeError(\"unsupported operand types for +: \" \n",
    "                            \"Vecteur2D and {}\".format(type(other)))\n",
    "            \n",
    "    def __mul__(self, other):\n",
    "        \"\"\"Multiplication par un réel ou un entier.\"\"\"\n",
    "        if isinstance(other, int) or isinstance(other, float):\n",
    "            return Vecteur2D(self.x * other, self.y * other)\n",
    "        else:\n",
    "            raise TypeError(\"unsupported operand types for *: \"\n",
    "                            \"Vecteur2D and {}\".format(type(other)))\n",
    "    \n",
    "    def __neg__(self):\n",
    "        \"\"\"Opposé.\"\"\"\n",
    "        return Vecteur2D(-self.x, -self.y)\n",
    "    \n",
    "    def __sub__(self, other):\n",
    "        \"\"\"Soustraction vectorielle.\"\"\"\n",
    "        return self + (-other)\n",
    "    \n",
    "    def __abs__(self):\n",
    "        \"\"\"Norme du vecteur (utile en partie 4).\"\"\"\n",
    "        return sqrt(self.x ** 2 + self.y ** 2)"
   ]
  },
  {
   "cell_type": "markdown",
   "metadata": {},
   "source": [
    "On peut vérifier les tests de la classe à l'aide du module `doctest` :"
   ]
  },
  {
   "cell_type": "code",
   "execution_count": 2,
   "metadata": {
    "pycharm": {
     "is_executing": false
    }
   },
   "outputs": [],
   "source": [
    "import doctest"
   ]
  },
  {
   "cell_type": "code",
   "execution_count": 3,
   "metadata": {
    "pycharm": {
     "is_executing": false
    }
   },
   "outputs": [],
   "source": [
    "doctest.run_docstring_examples(Vecteur2D, globals())"
   ]
  },
  {
   "cell_type": "markdown",
   "metadata": {},
   "source": [
    "## 2. Matrices\n",
    "\n",
    "- Compléter la classe `Matrice2D` suivante de manière à ce que tous les doctests fonctionnent."
   ]
  },
  {
   "cell_type": "code",
   "execution_count": 4,
   "metadata": {
    "pycharm": {
     "is_executing": false
    }
   },
   "outputs": [],
   "source": [
    "from copy import deepcopy\n",
    "\n",
    "class Matrice2D:\n",
    "    \"\"\"Classe permettant de représenter des matrices 2x2.\n",
    "    \n",
    "    >>> m = Matrice2D()\n",
    "    >>> m\n",
    "    Matrice2D([[1, 0], [0, 1]])\n",
    "    \n",
    "    >>> m + m\n",
    "    Matrice2D([[2, 0], [0, 2]])\n",
    "    \n",
    "    >>> m * m\n",
    "    Matrice2D([[1, 0], [0, 1]])\n",
    "    \n",
    "    >>> m = Matrice2D([[1, -1], [1, 1]])\n",
    "    >>> m * m\n",
    "    Matrice2D([[0, -2], [2, 0]])\n",
    "    \n",
    "    >>> m * Vecteur2D(1, 1)\n",
    "    Vecteur2D(0, 2)\n",
    "    \"\"\"\n",
    "    def __init__(self, coefs=None):\n",
    "        # Par défaut, on construit la matrice identité\n",
    "        self.coefs = coefs or [[1, 0], [0, 1]]\n",
    "    \n",
    "    def __repr__(self):\n",
    "        return \"Matrice2D({})\".format(repr(self.coefs))\n",
    "    \n",
    "    def __add__(self, other):\n",
    "        \"\"\"Addition de matrices.\"\"\"\n",
    "        if isinstance(other, Matrice2D):\n",
    "            result_coefs = [[0] * 2 for _ in range(2)]\n",
    "            for i, line in enumerate(self.coefs):\n",
    "                for j in range(len(line)):\n",
    "                    result_coefs[i][j] = self.coefs[i][j] + other.coefs[i][j]\n",
    "            return Matrice2D(result_coefs)\n",
    "        else:\n",
    "            raise TypeError(\"unsupported operand types for +: \"\n",
    "                            \"Matrice2D and {}\".format(type(other)))\n",
    "    \n",
    "    def __mul__(self, other):\n",
    "        \"\"\"Multiplication par un vecteur ou une matrice.\"\"\"\n",
    "        if isinstance(other, Vecteur2D):\n",
    "            return self._produit_par_vecteur(other) \n",
    "        elif isinstance(other, Matrice2D):\n",
    "            return self._produit_par_matrice(other)\n",
    "        else:\n",
    "            raise TypeError(\"unsupported operand types for *: \" \n",
    "                            \"Matrice2D and {}\".format(type(other)))\n",
    "            \n",
    "    def _produit_par_vecteur(self, vect):\n",
    "        \"\"\"Produit matrice x vecteur.\"\"\"\n",
    "        return Vecteur2D(vect.x * self.coefs[0][0] + vect.y * self.coefs[0][1], \n",
    "                         vect.x * self.coefs[1][0] + vect.y * self.coefs[1][1])\n",
    "    \n",
    "    def _produit_par_matrice(self, mat):\n",
    "        \"\"\"Produit matrice x matrice.\"\"\"\n",
    "        result_coefs = [[0] * 2 for _ in range(2)]\n",
    "        for i, line in enumerate(self.coefs):\n",
    "            for j in range(len(line)):\n",
    "                for k in range(len(line)):\n",
    "                    result_coefs[i][j] += self.coefs[i][k] * mat.coefs[k][j]\n",
    "        return Matrice2D(result_coefs)"
   ]
  },
  {
   "cell_type": "code",
   "execution_count": 5,
   "metadata": {
    "pycharm": {
     "is_executing": false
    }
   },
   "outputs": [],
   "source": [
    "doctest.run_docstring_examples(Matrice2D, globals())"
   ]
  },
  {
   "cell_type": "markdown",
   "metadata": {},
   "source": [
    "## 3. Transformations affines\n",
    "\n",
    "On va écrire trois classes permettant de représenter respectivement des transformations affines quelconques, des rotations et des translations. \n",
    "\n",
    "On utilise ici le principe *d'héritage* (notion nouvelle) pour rassembler le code commun à plusieurs transformations (par exemple la méthode `compose`, qui est *héritée* de la classe `TransformationAffine2D`dans les classes `Rotation2D` et `Translation2D`). Nous ne donnons volontairement que très peu d'explications, ce sujet sera traité en détail en L3.\n",
    "\n",
    "- Compléter les classes suivantes de manière à ce que tous les doctests fonctionnent.\n",
    "\n",
    "### Classe générale"
   ]
  },
  {
   "cell_type": "code",
   "execution_count": 6,
   "metadata": {
    "pycharm": {
     "is_executing": false
    }
   },
   "outputs": [],
   "source": [
    "class TransformationAffine2D:\n",
    "    \"\"\"Transformation affine (quelconque) du plan.\n",
    "    \n",
    "    >>> m = Matrice2D([[1, -1], [1, 1]])\n",
    "    >>> v = Vecteur2D(1, -1)\n",
    "    >>> t = TransformationAffine2D(m, v)\n",
    "    >>> t.applique(Vecteur2D(0, 1))\n",
    "    Vecteur2D(0, 0)\n",
    "    \n",
    "    >>> t.applique(Vecteur2D(1, 0))\n",
    "    Vecteur2D(2, 0)\n",
    "    \n",
    "    >>> t.compose(t).applique(Vecteur2D(1, 0))\n",
    "    Vecteur2D(3, 1)\n",
    "    \"\"\"\n",
    "    \n",
    "    def __init__(self, mat=None, vec=None):\n",
    "        # Par défaut, on construit la transformation identité\n",
    "        self.mat = mat or Matrice2D()\n",
    "        self.vec = vec or Vecteur2D()\n",
    "        \n",
    "    def __repr__(self):\n",
    "        return \"TransformationAffine2D({}, {})\".format(\n",
    "            repr(self.mat), repr(self.vec))\n",
    "    \n",
    "    def compose(self, other):\n",
    "        \"\"\"Construit la transformation (self o other).\n",
    "        \n",
    "        Attention à l'ordre ! La transformation composée\n",
    "        revient à appliquer d'abord other, puis self.\n",
    "        \"\"\"\n",
    "        mat = self.mat * other.mat\n",
    "        vec = self.mat * other.vec + self.vec\n",
    "        return TransformationAffine2D(mat, vec)\n",
    "    \n",
    "    def applique(self, vecteur):\n",
    "        \"\"\"Applique la transformation self à vecteur et \n",
    "        renvoie un vecteur.\"\"\"\n",
    "        return self.mat * vecteur + self.vec"
   ]
  },
  {
   "cell_type": "code",
   "execution_count": 7,
   "metadata": {
    "pycharm": {
     "is_executing": false
    }
   },
   "outputs": [],
   "source": [
    "doctest.run_docstring_examples(TransformationAffine2D, globals())"
   ]
  },
  {
   "cell_type": "markdown",
   "metadata": {},
   "source": [
    "### Rotations"
   ]
  },
  {
   "cell_type": "code",
   "execution_count": 8,
   "metadata": {
    "pycharm": {
     "is_executing": false
    }
   },
   "outputs": [],
   "source": [
    "from math import cos, sin, pi\n",
    "\n",
    "class Rotation2D(TransformationAffine2D):\n",
    "    \"\"\"Rotation déterminée par un centre (vecteur 2D) et un angle.\n",
    "    \n",
    "    Cette classe hérite de TransformationAffine2D et ses instances ont \n",
    "    les mêmes attributs mat et vec.\n",
    "    \n",
    "    >>> r = Rotation2D(Vecteur2D(1, 1), pi/2)\n",
    "    >>> r.applique(Vecteur2D())\n",
    "    Vecteur2D(2.0, 0.0)\n",
    "    \n",
    "    >>> r.compose(r).applique(Vecteur2D())\n",
    "    Vecteur2D(2.0, 2.0)\n",
    "    \"\"\"\n",
    "    def __init__(self, centre, angle):\n",
    "        self.centre = centre\n",
    "        self.angle = angle\n",
    "        \n",
    "        self.mat = Matrice2D([[cos(angle), -sin(angle)], [sin(angle), cos(angle)]])\n",
    "        self.vec = centre - self.mat * centre\n",
    "        \n",
    "    def __repr__(self):\n",
    "        return \"Rotation2D({}, {})\".format(repr(self.centre), repr(self.angle))"
   ]
  },
  {
   "cell_type": "code",
   "execution_count": 9,
   "metadata": {
    "pycharm": {
     "is_executing": false
    }
   },
   "outputs": [],
   "source": [
    "doctest.run_docstring_examples(Rotation2D, globals())"
   ]
  },
  {
   "cell_type": "markdown",
   "metadata": {},
   "source": [
    "### Translations"
   ]
  },
  {
   "cell_type": "code",
   "execution_count": 10,
   "metadata": {
    "pycharm": {
     "is_executing": false
    }
   },
   "outputs": [],
   "source": [
    "class Translation2D(TransformationAffine2D):\n",
    "    \"\"\"Translation définie par un vecteur.\n",
    "    \n",
    "    >>> t = Translation2D(Vecteur2D(1, 0))\n",
    "    >>> t.applique(Vecteur2D(0, 0))\n",
    "    Vecteur2D(1, 0)\n",
    "    \n",
    "    >>> r = Rotation2D(Vecteur2D(), pi)\n",
    "    >>> v = r.compose(t).applique(Vecteur2D(-2, 0))\n",
    "    >>> v.x, round(v.y, 6)\n",
    "    (1.0, -0.0)\n",
    "    \"\"\"\n",
    "    def __init__(self, vec):\n",
    "        self.mat = Matrice2D()\n",
    "        self.vec = vec\n",
    "        \n",
    "    def __repr__(self):\n",
    "        return \"Translation2D({})\".format(repr(self.vec))"
   ]
  },
  {
   "cell_type": "code",
   "execution_count": 11,
   "metadata": {
    "pycharm": {
     "is_executing": false
    }
   },
   "outputs": [],
   "source": [
    "doctest.run_docstring_examples(Translation2D, globals())"
   ]
  },
  {
   "cell_type": "markdown",
   "metadata": {},
   "source": [
    "### Essais\n",
    "\n",
    "Pour mieux visualiser l'effet de certaines transformations affines, on se propose de dessiner grâce à `matplotlib` l'effet d'une transformation sur un polygone. On définit une classe `Polygone` appropriée :"
   ]
  },
  {
   "cell_type": "code",
   "execution_count": 12,
   "metadata": {
    "pycharm": {
     "is_executing": false
    }
   },
   "outputs": [],
   "source": [
    "from matplotlib.patches import Polygon\n",
    "\n",
    "class Polygone:\n",
    "    \"\"\"Polygone composé d'une liste de Vecteur2D vus comme des points.\"\"\"\n",
    "    def __init__(self, points):\n",
    "        self.points = [] if points is None else points\n",
    "        \n",
    "    def transforme(self, trans):\n",
    "        \"\"\"Applique la transformation trans à chaque point.\"\"\"\n",
    "        points = map(trans.applique, self.points)\n",
    "        return Polygone(list(points))\n",
    "    \n",
    "    def trace(self, left=0, right=1, top=1, bottom=0):\n",
    "        \"\"\"Trace self sur un graphique matplotlib.\n",
    "        \n",
    "        Les paramètres left, right, bottom et top permettent de spécifier\n",
    "        la portion du plan dessinée.\"\"\"\n",
    "        pts  = []\n",
    "        for v in self.points:\n",
    "            pts.append((v.x, v.y))\n",
    "        fig, ax = plt.subplots()\n",
    "        ax.set_xlim(left=left, right=right)\n",
    "        ax.set_ylim(bottom=bottom, top=top)\n",
    "        ax.grid()\n",
    "        ax.add_patch(Polygon(pts, closed=True))\n",
    "        plt.show()"
   ]
  },
  {
   "cell_type": "markdown",
   "metadata": {},
   "source": [
    " Voici un exemple de visualisation (ici avec la transformation identité) :"
   ]
  },
  {
   "cell_type": "code",
   "execution_count": 13,
   "metadata": {
    "pycharm": {
     "is_executing": false
    }
   },
   "outputs": [
    {
     "data": {
      "image/png": "[encoded data removed]",
      "text/plain": [
       "<Figure size 432x288 with 1 Axes>"
      ]
     },
     "metadata": {
      "needs_background": "light"
     },
     "output_type": "display_data"
    }
   ],
   "source": [
    "from matplotlib import pyplot as plt\n",
    "\n",
    "p = Polygone([Vecteur2D(0, 0), Vecteur2D(1, 0), \n",
    "              Vecteur2D(1, 1), Vecteur2D(1/4, 1.5),\n",
    "              Vecteur2D(0, 1)])\n",
    "\n",
    "tr = TransformationAffine2D()\n",
    "p.transforme(tr).trace(left=-4, right = 4, bottom=-3, top=3)"
   ]
  },
  {
   "cell_type": "markdown",
   "metadata": {},
   "source": [
    "- Tester en les dessinant les effets de différentes transformations affines sur le polygone `p`."
   ]
  },
  {
   "cell_type": "code",
   "execution_count": 14,
   "metadata": {
    "pycharm": {
     "is_executing": false
    }
   },
   "outputs": [
    {
     "data": {
      "image/png": "[encoded data removed]",
      "text/plain": [
       "<Figure size 432x288 with 1 Axes>"
      ]
     },
     "metadata": {
      "needs_background": "light"
     },
     "output_type": "display_data"
    }
   ],
   "source": [
    "tr = Translation2D(Vecteur2D(1, 1))\n",
    "q = p.transforme(tr)\n",
    "q.trace(left=-4, right = 4, bottom=-3, top=3)"
   ]
  },
  {
   "cell_type": "code",
   "execution_count": 15,
   "metadata": {
    "pycharm": {
     "name": "#%%\n"
    }
   },
   "outputs": [
    {
     "data": {
      "image/png": "[encoded data removed]",
      "text/plain": [
       "<Figure size 432x288 with 1 Axes>"
      ]
     },
     "metadata": {
      "needs_background": "light"
     },
     "output_type": "display_data"
    }
   ],
   "source": [
    "tr = Rotation2D(Vecteur2D(0, 0), pi/3)\n",
    "q = p.transforme(tr)\n",
    "q.trace(left=-4, right = 4, bottom=-3, top=3)"
   ]
  },
  {
   "cell_type": "markdown",
   "metadata": {},
   "source": [
    "## 4. Exemple d'application\n",
    "\n",
    "Pour terminer, voici une ébauche de code d'un petit jeu vidéo de vaisseau spatial. On utilise volontairement le module `tkinter` (et non `upemtk`) directement, pour nous rapprocher d'un fonctionnement proche de JavaScript (création d'un objet `Canvas` et mise en place de \"*listeners*\" pour les événements).\n",
    "\n",
    "Le code est intégralement fourni, le travail demandé est de le lire, l'exécuter, le comprendre et, s'il reste du temps, l'améliorer."
   ]
  },
  {
   "cell_type": "markdown",
   "metadata": {
    "pycharm": {
     "name": "#%% md\n"
    }
   },
   "source": [
    "### Polygones\n",
    "\n",
    "On redéfinit la classe Polygone afin de pouvoir dessiner sur un canevas `tkinter`."
   ]
  },
  {
   "cell_type": "code",
   "execution_count": 16,
   "metadata": {
    "pycharm": {
     "is_executing": false,
     "name": "#%%\n"
    }
   },
   "outputs": [],
   "source": [
    "class Polygone:\n",
    "    def __init__(self, points):\n",
    "        self.points = [] if points is None else points\n",
    "        \n",
    "    def transforme(self, trans):\n",
    "        points = map(trans.applique, self.points)\n",
    "        return Polygone(list(points))\n",
    "    \n",
    "    def dessine(self, canevas, etiquette):\n",
    "        coords = []\n",
    "        for p in self.points:\n",
    "            coords.append(p.x)\n",
    "            coords.append(p.y)\n",
    "        canevas.create_polygon(\n",
    "            coords, fill=\"gray\", outline=\"black\", width=2, \n",
    "            tag=etiquette)"
   ]
  },
  {
   "cell_type": "markdown",
   "metadata": {
    "pycharm": {
     "name": "#%% md\n"
    }
   },
   "source": [
    "### Vaisseaux\n",
    "\n",
    "La dynamique du vaisseau obéit à la seconde loi de Newton (sous forme simplifiée) : l'accélération est proportionnelle à la somme des forces qui s'appliquent sur le vaisseau. Couplé à une boucle principale régulière, cela suffit à donner une impression de mouvement réaliste."
   ]
  },
  {
   "cell_type": "code",
   "execution_count": 17,
   "metadata": {
    "pycharm": {
     "is_executing": false,
     "name": "#%%\n"
    }
   },
   "outputs": [],
   "source": [
    "class Vaisseau:\n",
    "    coef_acceleration = 0.05\n",
    "    coef_rotation = 0.0003\n",
    "    \n",
    "    forme_defaut = Polygone(\n",
    "        [Vecteur2D(-15, 10), Vecteur2D(20, 0), Vecteur2D(-15, -10)])\n",
    "    \n",
    "    def __init__(self, jeu, etiquette,\n",
    "                 position=None, vitesse=None, \n",
    "                 direction=0, rotation=0,\n",
    "                 forme=None):\n",
    "        self.jeu = jeu\n",
    "        self.etiquette = etiquette\n",
    "        self.position = Vecteur2D() if position is None else position\n",
    "        self.vitesse = Vecteur2D() if vitesse is None else vitesse\n",
    "        self.direction = direction\n",
    "        self.rotation = rotation\n",
    "        self.forme = Vaisseau.forme_defaut if forme is None else forme\n",
    "    \n",
    "    def deplace(self):\n",
    "        self.position += self.vitesse\n",
    "        self.direction += self.rotation\n",
    "        \n",
    "    def accelere(self):\n",
    "        vect = Vecteur2D(cos(self.direction), sin(self.direction))\n",
    "        self.vitesse += vect * Vaisseau.coef_acceleration            \n",
    "    \n",
    "    def babord(self):\n",
    "        self.rotation -= Vaisseau.coef_rotation\n",
    "        \n",
    "    def tribord(self):\n",
    "        self.rotation += Vaisseau.coef_rotation\n",
    "        \n",
    "    def gravite(self, other):\n",
    "        v = other.position - self.position\n",
    "        d = max(abs(v), other.rayon)  # pour éviter des effets bizarres\n",
    "        self.vitesse += v * other.masse * (1 / d ** 3)\n",
    "    \n",
    "    def dessine(self):\n",
    "        self.jeu.canevas.delete(self.etiquette)\n",
    "        rot = Rotation2D(Vecteur2D(), self.direction)\n",
    "        trans = Translation2D(self.position)\n",
    "        poly = self.forme.transforme(trans.compose(rot))\n",
    "        poly.dessine(self.jeu.canevas, self.etiquette)"
   ]
  },
  {
   "cell_type": "markdown",
   "metadata": {
    "pycharm": {
     "name": "#%% md\n"
    }
   },
   "source": [
    "### Planètes"
   ]
  },
  {
   "cell_type": "code",
   "execution_count": 18,
   "metadata": {
    "pycharm": {
     "is_executing": false,
     "name": "#%%\n"
    }
   },
   "outputs": [],
   "source": [
    "class Planete:\n",
    "    \n",
    "    def __init__(self, jeu, etiquette, position, masse, rayon):\n",
    "        self.jeu = jeu\n",
    "        self.etiquette = etiquette\n",
    "        self.position = position\n",
    "        self.masse = masse\n",
    "        self.rayon = rayon\n",
    "        \n",
    "    def dessine(self):\n",
    "        self.jeu.canevas.delete(self.etiquette)\n",
    "        x, y = self.position.x, self.position.y\n",
    "        r = self.rayon\n",
    "        self.jeu.canevas.create_oval(x - r, y - r, x + r, y + r,\n",
    "                                     fill=\"gray\", outline=\"black\", width=2,\n",
    "                                     tag=self.etiquette)"
   ]
  },
  {
   "cell_type": "markdown",
   "metadata": {
    "pycharm": {
     "name": "#%% md\n"
    }
   },
   "source": [
    "### Interface et boucle principale du jeu"
   ]
  },
  {
   "cell_type": "code",
   "execution_count": 19,
   "metadata": {
    "pycharm": {
     "is_executing": false
    }
   },
   "outputs": [],
   "source": [
    "import tkinter as tk\n",
    "\n",
    "class Jeu:\n",
    "    \n",
    "    def __init__(self, largeur, hauteur):\n",
    "        self.largeur = largeur\n",
    "        self.hauteur = hauteur\n",
    "        \n",
    "        self.racine = tk.Tk()\n",
    "        self.canevas = tk.Canvas(self.racine, width=largeur, height=hauteur)\n",
    "        self.canevas.grid(column=0, row=0, sticky=(tk.N, tk.W, tk.E, tk.S))\n",
    "        \n",
    "        self.vaisseau = Vaisseau(self, \"voyager\", \n",
    "                                 Vecteur2D(largeur/2, hauteur/3),\n",
    "                                 Vecteur2D(1, 0))\n",
    "        self.planete = Planete(self, \"terre\", \n",
    "                               Vecteur2D(largeur/2, hauteur/2), 200, 20)\n",
    "        \n",
    "        self.pressees = set()\n",
    "        self.keymap = {\n",
    "            \"Up\": self.vaisseau.accelere,\n",
    "            \"Left\": self.vaisseau.babord,\n",
    "            \"Right\": self.vaisseau.tribord\n",
    "        }\n",
    "        self.configure_touches()\n",
    "        \n",
    "    def configure_touches(self):\n",
    "        self.racine.bind(\"<KeyPress>\", lambda e: self.pressees.add(e.keysym))\n",
    "        self.racine.bind(\"<KeyRelease>\", lambda e: self.pressees.discard(e.keysym))\n",
    "\n",
    "    def traite_touches(self):\n",
    "        for touche in self.keymap.keys() & self.pressees:\n",
    "            self.keymap[touche]()\n",
    "        \n",
    "    def tour(self):\n",
    "        self.traite_touches()\n",
    "        self.vaisseau.deplace()\n",
    "        self.vaisseau.dessine()\n",
    "        self.vaisseau.gravite(self.planete)\n",
    "        self.racine.after(20, self.tour)\n",
    "        \n",
    "    def lance(self):\n",
    "        self.tour()\n",
    "        self.planete.dessine()\n",
    "        self.racine.mainloop()"
   ]
  },
  {
   "cell_type": "code",
   "execution_count": 20,
   "metadata": {
    "pycharm": {
     "is_executing": false,
     "name": "#%%\n"
    }
   },
   "outputs": [],
   "source": [
    "Jeu(800, 800).lance()"
   ]
  },
  {
   "cell_type": "markdown",
   "metadata": {
    "pycharm": {
     "name": "#%% md\n"
    }
   },
   "source": [
    "## $\\star$ Pour aller plus loin\n",
    "\n",
    "#### Homothéties\n",
    "- Créer une classe `Homothétie2D` permettant de représenter des homothéties du plan, de centre et de rapport donné.\n",
    "- Observer la forme des matrices de ces transformations.\n",
    "- Tracer l'effet de quelques homothéties sur le polygone `p` utilisé en partie 3.\n",
    "- Comment peut-on obtenir une symétrie centrale de centre donné ? Comparer avec la matrice de rotation d'angle $\\pi$ et de même centre.\n",
    "\n",
    "#### Symétries axiales\n",
    "- Créer une classe `SymetrieAxiale2D` permettant de représenter des symétries d'axe quelconque (l'axe de symétrie sera donné par les paramètres $a$, $b$ et $c$ de l'équation de la droite de symétrie $ax + by = c$.\n",
    "- Tracer l'effet de quelques symétries axiales sur le polygone `p`.\n",
    "\n",
    "#### Transformations composées et diverses\n",
    "- Tracer l'effet sur le polygone `p` de composées de transformations vues ci-dessus (composée de deux rotations, d'une rotation et d'une symétrie, etc.). Que peut-on observer ? Quelles formes ont les matrices obtenues ?\n",
    "- Tracer l'effet sur le polygone `p` de transformations affines quelconques, qui ne sont d'aucun des types ci-dessus. Quels types d'effets peut-on observer ?"
   ]
  }
 ],
 "metadata": {
  "kernelspec": {
   "display_name": "PyCharm (Labo-MI)",
   "language": "python",
   "name": "pycharm-97b92656"
  },
  "language_info": {
   "codemirror_mode": {
    "name": "ipython",
    "version": 3
   },
   "file_extension": ".py",
   "mimetype": "text/x-python",
   "name": "python",
   "nbconvert_exporter": "python",
   "pygments_lexer": "ipython3",
   "version": "3.7.5"
  },
  "pycharm": {
   "stem_cell": {
    "cell_type": "raw",
    "source": [],
    "metadata": {
     "collapsed": false
    }
   }
  }
 },
 "nbformat": 4,
 "nbformat_minor": 2
}