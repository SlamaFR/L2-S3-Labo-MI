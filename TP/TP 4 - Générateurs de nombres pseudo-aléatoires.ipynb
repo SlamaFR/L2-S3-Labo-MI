{
 "cells": [
  {
   "cell_type": "markdown",
   "metadata": {},
   "source": [
    "# TP 4 : Générateurs de nombres pseudo-aléatoires"
   ]
  },
  {
   "cell_type": "markdown",
   "metadata": {},
   "source": [
    "## 1. Générateurs à congruence linéaire"
   ]
  },
  {
   "cell_type": "markdown",
   "metadata": {},
   "source": [
    "- Ecrire une classe `GenerateurCL` pour créer et utiliser des générateurs à congruence linéaire. \n",
    "    - La méthode `__init__` de cette classe prendra en paramètres les valeurs de $a$, $c$ et $m$. Par défaut, la valeur initiale (la graine) du générateur sera produite en utilisant la fonction `time` du module `time`.\n",
    "    - Cette classe contiendra par ailleurs les méthodes suivantes :\n",
    "        - `random` qui applique la fontion $\\varphi$ à la valeur courante et renvoie cette nouvelle valeur ;\n",
    "        - `seed` qui prend en paramètre un entier et réinitialise le générateur avec cet entier comme graine ;\n",
    "        - `uniform` qui prend en paramètres deux nombres flottants `vmin` et `vmax` et renvoie un nombre aléatoire flottant suivant une loi uniforme sur `[vmin,vmax[` ;\n",
    "        - `randint` qui prend en paramètres deux entiers `imin` et `imax` et renvoie un nombre aléatoire entier suivant une loi uniforme sur `{imin,...,imax}`."
   ]
  },
  {
   "cell_type": "code",
   "execution_count": 1,
   "metadata": {
    "pycharm": {
     "is_executing": false
    }
   },
   "outputs": [],
   "source": [
    "from time import time\n",
    "from math import floor\n",
    "\n",
    "class GenerateurCL:\n",
    "    \n",
    "    def __init__(self, a: int, c: int, m: int):\n",
    "        self.a = a\n",
    "        self.c = c\n",
    "        self.m = m\n",
    "        self.current = int(time()) % m\n",
    "        \n",
    "    def random(self):\n",
    "        self.current = (self.a * self.current + self.c) % self.m\n",
    "        return self.current\n",
    "    \n",
    "    def seed(self, seed: int):\n",
    "        self.current = seed\n",
    "    \n",
    "    def uniform(self, vmin: float, vmax: float) -> float:\n",
    "        f = (self.random() + .5) / self.m\n",
    "        return vmin + f * (vmax - vmin)\n",
    "    \n",
    "    def randint(self, imin: int, imax: int) -> int:\n",
    "        return floor(self.uniform(imin, imax))"
   ]
  },
  {
   "cell_type": "markdown",
   "metadata": {},
   "source": [
    "- Créer un générateur de paramètres $(5,1,16)$ et afficher les 20 premiers nombres pseudo-aléatoires produits par ce générateur."
   ]
  },
  {
   "cell_type": "code",
   "execution_count": 2,
   "metadata": {
    "pycharm": {
     "is_executing": false
    }
   },
   "outputs": [
    {
     "name": "stdout",
     "output_type": "stream",
     "text": [
      "3\n",
      "0\n",
      "1\n",
      "6\n",
      "15\n",
      "12\n",
      "13\n",
      "2\n",
      "11\n",
      "8\n",
      "9\n",
      "14\n",
      "7\n",
      "4\n",
      "5\n",
      "10\n",
      "3\n",
      "0\n",
      "1\n",
      "6\n"
     ]
    }
   ],
   "source": [
    "gen = GenerateurCL(5, 1, 16)\n",
    "\n",
    "for _ in range(20):\n",
    "    print(gen.random())"
   ]
  },
  {
   "cell_type": "markdown",
   "metadata": {},
   "source": [
    "- Fixer la graine du générateur à 10. Afficher les 20 premiers nombres pseudo-aléatoires produits par ce générateur avec cette graine."
   ]
  },
  {
   "cell_type": "code",
   "execution_count": 3,
   "metadata": {
    "pycharm": {
     "is_executing": false
    }
   },
   "outputs": [
    {
     "name": "stdout",
     "output_type": "stream",
     "text": [
      "3\n",
      "0\n",
      "1\n",
      "6\n",
      "15\n",
      "12\n",
      "13\n",
      "2\n",
      "11\n",
      "8\n",
      "9\n",
      "14\n",
      "7\n",
      "4\n",
      "5\n",
      "10\n",
      "3\n",
      "0\n",
      "1\n",
      "6\n"
     ]
    }
   ],
   "source": [
    "gen.seed(10)\n",
    "\n",
    "for _ in range(20):\n",
    "    print(gen.random())"
   ]
  },
  {
   "cell_type": "markdown",
   "metadata": {},
   "source": [
    "- Tester les méthodes `uniform` et `randint`."
   ]
  },
  {
   "cell_type": "code",
   "execution_count": 4,
   "metadata": {
    "pycharm": {
     "is_executing": false
    }
   },
   "outputs": [
    {
     "name": "stdout",
     "output_type": "stream",
     "text": [
      "1.196875\n",
      "8\n"
     ]
    }
   ],
   "source": [
    "print(gen.uniform(1.1, 1.2))\n",
    "\n",
    "print(gen.randint(1, 10))"
   ]
  },
  {
   "cell_type": "markdown",
   "metadata": {},
   "source": [
    "## 2. Tests de quelques générateurs à congruence linéaire"
   ]
  },
  {
   "cell_type": "markdown",
   "metadata": {},
   "source": [
    "- Créer les générateurs à congruence linéaire de paramètres suivants :\n",
    "    - $(9,5,2^{31})$\n",
    "    - $(11,5,2^{31})$\n",
    "    - $(1664523,1013904223,2^{31})$\n",
    "    - $(1664525,1013904223,2^{31})$\n",
    "    - $(16807,0,2^{31}-1)$ [*Ce générateur est appelé Standard Minimal*]"
   ]
  },
  {
   "cell_type": "code",
   "execution_count": 5,
   "metadata": {
    "pycharm": {
     "is_executing": false
    }
   },
   "outputs": [],
   "source": [
    "gen1 = GenerateurCL(9, 5, 2 ** 31)\n",
    "gen2 = GenerateurCL(11, 5, 2 ** 31)\n",
    "gen3 = GenerateurCL(1664523, 1013904223, 2 ** 31)\n",
    "gen4 = GenerateurCL(1664525, 1013904223, 2 ** 31)\n",
    "gen5 = GenerateurCL(16807, 0, 2 ** 31 - 1)"
   ]
  },
  {
   "cell_type": "markdown",
   "metadata": {},
   "source": [
    "Soit $n$ un entier fixé et $m$ un multiple de $n$. Si l'on tire aléatoirement un nombre $x$ dans $\\{0,\\ldots,m-1\\}$ suivant une loi uniforme, il y a autant de chance que $x \\equiv 0 \\mod n$ ou que $x \\equiv 1 \\mod n$ ou que $x \\equiv 2 \\mod n$, etc. On aimerait donc que les nombres pseudo-aléatoires produits par nos générateurs vérifient aussi cette propriété. Remarque : si $m$ est grand devant $n$, même si $m$ n'est pas un multiple de $n$, on peut considérer qu'il y a équiprobabilité des congruences.\n",
    "\n",
    "- Ecrire une fonction `test_modulo` qui tire un échantillon de nombres pseudo-aléatoires produits par un générateur, calcule les congruences modulo $n$ (où $n$ est donné) et affiche la répartition des congruences sous forme d'histogramme. Cette fonction prendra comme paramètres : `rd`, le générateur de nombres pseudo-aléatoires, `nsample`, la taille de l'échantillon, et `n`, le nombre modulo pour lequel on calcule les congruences."
   ]
  },
  {
   "cell_type": "code",
   "execution_count": 6,
   "metadata": {
    "pycharm": {
     "is_executing": false
    }
   },
   "outputs": [],
   "source": [
    "import matplotlib.pyplot as plt\n",
    "\n",
    "def test_modulo(rd: GenerateurCL, nsample: int, n: int):\n",
    "    \"\"\"\n",
    "    Établir le graphique de la fréquence des modulos.\n",
    "    :param rd: Générateur de nombres pseudo-aléatoires.\n",
    "    :param nsample: Taille de l'échantillon\n",
    "    :param n: Modulo pour lequel on calcule les congruences.\n",
    "    \"\"\"\n",
    "    plt.hist([rd.random() % n for _ in range(nsample)], bins=n)\n",
    "    plt.show()"
   ]
  },
  {
   "cell_type": "markdown",
   "metadata": {},
   "source": [
    "- Tester les différents générateurs pour des congruences modulo 4 avec des échantillons de 4 000 nombres."
   ]
  },
  {
   "cell_type": "code",
   "execution_count": 7,
   "metadata": {
    "pycharm": {
     "is_executing": false
    }
   },
   "outputs": [
    {
     "data": {
      "image/png": "[encoded data removed]",
      "text/plain": [
       "<Figure size 432x288 with 1 Axes>"
      ]
     },
     "metadata": {
      "needs_background": "light"
     },
     "output_type": "display_data"
    },
    {
     "data": {
      "image/png": "[encoded data removed]",
      "text/plain": [
       "<Figure size 432x288 with 1 Axes>"
      ]
     },
     "metadata": {
      "needs_background": "light"
     },
     "output_type": "display_data"
    },
    {
     "data": {
      "image/png": "[encoded data removed]",
      "text/plain": [
       "<Figure size 432x288 with 1 Axes>"
      ]
     },
     "metadata": {
      "needs_background": "light"
     },
     "output_type": "display_data"
    },
    {
     "data": {
      "image/png": "[encoded data removed]",
      "text/plain": [
       "<Figure size 432x288 with 1 Axes>"
      ]
     },
     "metadata": {
      "needs_background": "light"
     },
     "output_type": "display_data"
    },
    {
     "data": {
      "image/png": "[encoded data removed]",
      "text/plain": [
       "<Figure size 432x288 with 1 Axes>"
      ]
     },
     "metadata": {
      "needs_background": "light"
     },
     "output_type": "display_data"
    }
   ],
   "source": [
    "test_modulo(gen1, 4000, 4)\n",
    "test_modulo(gen2, 4000, 4)\n",
    "test_modulo(gen3, 4000, 4)\n",
    "test_modulo(gen4, 4000, 4)\n",
    "test_modulo(gen5, 4000, 4)"
   ]
  },
  {
   "cell_type": "markdown",
   "metadata": {},
   "source": [
    "- Tester les différents générateurs pour des congruences modulo 10 avec des échantillons de 10 000 nombres."
   ]
  },
  {
   "cell_type": "code",
   "execution_count": 8,
   "metadata": {
    "pycharm": {
     "is_executing": false
    }
   },
   "outputs": [
    {
     "data": {
      "image/png": "[encoded data removed]",
      "text/plain": [
       "<Figure size 432x288 with 1 Axes>"
      ]
     },
     "metadata": {
      "needs_background": "light"
     },
     "output_type": "display_data"
    },
    {
     "data": {
      "image/png": "[encoded data removed]",
      "text/plain": [
       "<Figure size 432x288 with 1 Axes>"
      ]
     },
     "metadata": {
      "needs_background": "light"
     },
     "output_type": "display_data"
    },
    {
     "data": {
      "image/png": "[encoded data removed]",
      "text/plain": [
       "<Figure size 432x288 with 1 Axes>"
      ]
     },
     "metadata": {
      "needs_background": "light"
     },
     "output_type": "display_data"
    },
    {
     "data": {
      "image/png": "[encoded data removed]",
      "text/plain": [
       "<Figure size 432x288 with 1 Axes>"
      ]
     },
     "metadata": {
      "needs_background": "light"
     },
     "output_type": "display_data"
    },
    {
     "data": {
      "image/png": "[encoded data removed]",
      "text/plain": [
       "<Figure size 432x288 with 1 Axes>"
      ]
     },
     "metadata": {
      "needs_background": "light"
     },
     "output_type": "display_data"
    }
   ],
   "source": [
    "test_modulo(gen1, 10000, 10)\n",
    "test_modulo(gen2, 10000, 10)\n",
    "test_modulo(gen3, 10000, 10)\n",
    "test_modulo(gen4, 10000, 10)\n",
    "test_modulo(gen5, 10000, 10)"
   ]
  },
  {
   "cell_type": "markdown",
   "metadata": {},
   "source": [
    "- Commenter les résultats de ces tests ? Sont-ils cohérents avec les résultats théoriques démontrés en TD ?"
   ]
  },
  {
   "cell_type": "markdown",
   "metadata": {},
   "source": [
    "*Oui les résultats sont cohérents. Les histogrammes indiquent que la fréquence des modulos est presque constante, ce qui indique que chaque modulo a presque la même probabilité que les autres de sortir.*"
   ]
  },
  {
   "cell_type": "markdown",
   "metadata": {},
   "source": [
    "Si l'on tire aléatoirement trois nombres $x_1,x_2,x_3$ de façon indépendante, suivant une même loi, il y autant de chance que $x_1<x_2<x_3$ ou que $x_1<x_3<x_2$ ou que $x_2<x_1<x_3$, etc. On aimerait donc que les nombres pseudo-aléatoires produits par nos générateurs vérifient aussi cette propriété.\n",
    "\n",
    "- Ecrire une fonction `test_order` qui tire un échantillon de triplets de nombres pseudo-aléatoires produits par un générateur, détermine l'ordre de ces triplets et affiche la répartition des ordres trouvés dans l'échantillon sous forme d'histogramme. Cette fonction prendra comme paramètres : `rd`, le générateur de nombres pseudo-aléatoires, et `nsample`, la taille de l'échantillon."
   ]
  },
  {
   "cell_type": "code",
   "execution_count": 9,
   "metadata": {
    "pycharm": {
     "is_executing": false
    }
   },
   "outputs": [],
   "source": [
    "def test_order(rd: GenerateurCL, nsample: int):\n",
    "    sample = [0] * 6\n",
    "    for _ in range(nsample):\n",
    "        x1, x2, x3 = rd.random(), rd.random(), rd.random()\n",
    "        if x1 < x2 < x3:\n",
    "            sample[0] += 1\n",
    "        elif x1 < x3 < x2:\n",
    "            sample[1] += 1\n",
    "        elif x2 < x1 < x3:\n",
    "            sample[2] += 1\n",
    "        elif x2 < x3 < x1:\n",
    "            sample[3] += 1\n",
    "        elif x3 < x1 < x2:\n",
    "            sample[4] += 1\n",
    "        elif x3 < x2 < x1:\n",
    "            sample[5] += 1\n",
    "        else:\n",
    "            print(\"else\")\n",
    "            \n",
    "    plt.figure(figsize=(8,4))\n",
    "    plt.bar(range(6), sample)\n",
    "    plt.xticks(range(6), ('$x_1<x_2<x_3$', '$x_1<x_3<x_2$', '$x_2<x_1<x_3$', '$x_2<x_3<x_1$', '$x_3<x_1<x_2$', '$x_3<x_2<x_1$'))\n",
    "    plt.show()"
   ]
  },
  {
   "cell_type": "markdown",
   "metadata": {},
   "source": [
    "- Tester avec un échantillon de 60 000 triplets de nombres"
   ]
  },
  {
   "cell_type": "code",
   "execution_count": 10,
   "metadata": {
    "pycharm": {
     "is_executing": false
    },
    "scrolled": true
   },
   "outputs": [
    {
     "data": {
      "image/png": "[encoded data removed]",
      "text/plain": [
       "<Figure size 576x288 with 1 Axes>"
      ]
     },
     "metadata": {
      "needs_background": "light"
     },
     "output_type": "display_data"
    },
    {
     "data": {
      "image/png": "[encoded data removed]",
      "text/plain": [
       "<Figure size 576x288 with 1 Axes>"
      ]
     },
     "metadata": {
      "needs_background": "light"
     },
     "output_type": "display_data"
    },
    {
     "data": {
      "image/png": "[encoded data removed]",
      "text/plain": [
       "<Figure size 576x288 with 1 Axes>"
      ]
     },
     "metadata": {
      "needs_background": "light"
     },
     "output_type": "display_data"
    },
    {
     "data": {
      "image/png": "[encoded data removed]",
      "text/plain": [
       "<Figure size 576x288 with 1 Axes>"
      ]
     },
     "metadata": {
      "needs_background": "light"
     },
     "output_type": "display_data"
    },
    {
     "data": {
      "image/png": "[encoded data removed]",
      "text/plain": [
       "<Figure size 576x288 with 1 Axes>"
      ]
     },
     "metadata": {
      "needs_background": "light"
     },
     "output_type": "display_data"
    }
   ],
   "source": [
    "test_order(gen1, 60000)\n",
    "test_order(gen2, 60000)\n",
    "test_order(gen3, 60000)\n",
    "test_order(gen4, 60000)\n",
    "test_order(gen5, 60000)"
   ]
  },
  {
   "cell_type": "markdown",
   "metadata": {},
   "source": [
    "- Commenter les résultats de ces tests."
   ]
  },
  {
   "cell_type": "markdown",
   "metadata": {},
   "source": [
    "*Les deux premiers générateurs (ceux avec des petites valeurs pour $a$ et $c$) ont des résultats moins satisfaisants que les 3 autres. Les générateurs avec de plus grandes valeurs offrent plus de stabilité sur l'ordre des nombres sortants.*"
   ]
  },
  {
   "cell_type": "markdown",
   "metadata": {},
   "source": [
    "## 3. Générateur de Von Neumann"
   ]
  },
  {
   "cell_type": "markdown",
   "metadata": {},
   "source": [
    "Un des premiers générateur de nombre pseudo-aléatoires a été proposé par le mathématicien John Von Neumann dans les années 40. Il génère des entiers compris entre 0 et 9999 ($\\text{valeurMax}=9999$) de la façon suivante : si le dernier entier généré est $x$ (avec $x$ qui vaut la `graine` au début), alors on calcule $x^2$, on rajoute éventuellement des $0$ en tête pour avoir 8 chiffres en base 10 et on prend les 4 chiffres du milieu comme nouveau nombre \"aléatoire\".\n",
    "\n",
    "Par exemple si la `graine` est 1230, la première fois qu'on demande un nombre au générateur cela donne $5129$ car\n",
    "$$1230^2 = 01\\underline{5129}00 \\rightarrow 5129.$$\n",
    "Si on demande un nouveau nombre on aura $3066$ car\n",
    "$$5129^2 = 26\\underline{3066}41 \\rightarrow 3066.$$"
   ]
  },
  {
   "cell_type": "markdown",
   "metadata": {},
   "source": [
    "- Ecrire une classe `VonNeumann` sur le modèle de la classe écrite pour les générateurs à congruence linéaire."
   ]
  },
  {
   "cell_type": "code",
   "execution_count": 11,
   "metadata": {
    "pycharm": {
     "is_executing": false
    }
   },
   "outputs": [],
   "source": [
    "class VonNeumann:\n",
    "    \n",
    "    def __init__(self, seed):\n",
    "        self.current = seed\n",
    "        \n",
    "    def random(self):\n",
    "        square = str(self.current ** 2)\n",
    "        \n",
    "        while len(square) < 8:\n",
    "            square = \"0\" + square\n",
    "        \n",
    "        self.current = int(square[2:6])\n",
    "        return self.current"
   ]
  },
  {
   "cell_type": "markdown",
   "metadata": {},
   "source": [
    "- Fixer la graine à 1230. Afficher les 20 premiers nombres produits par le générateur de VonNeumann. Que remarquez-vous ? Essayez avec d'autres graines."
   ]
  },
  {
   "cell_type": "code",
   "execution_count": 12,
   "metadata": {},
   "outputs": [
    {
     "name": "stdout",
     "output_type": "stream",
     "text": [
      "5129 3066 4003 240 576 3317 24 5 0 0 0 0 0 0 0 0 0 0 0 0 "
     ]
    }
   ],
   "source": [
    "von = VonNeumann(1230)\n",
    "\n",
    "for _ in range(20):\n",
    "    print(von.random(), end=\" \")"
   ]
  },
  {
   "cell_type": "markdown",
   "metadata": {},
   "source": [
    "*On remarque qu'à partir du 9e tirage, on reste bloqué sur 0.*"
   ]
  },
  {
   "cell_type": "code",
   "execution_count": 13,
   "metadata": {
    "pycharm": {
     "is_executing": false
    },
    "scrolled": false
   },
   "outputs": [
    {
     "name": "stdout",
     "output_type": "stream",
     "text": [
      "9251 5810 7561 1687 8459 5546 7581 4715 2312 3453 9232 2298 2808 8848 2871 2426 8854 3933 4684 9398 "
     ]
    }
   ],
   "source": [
    "von = VonNeumann(6239)\n",
    "\n",
    "for _ in range(20):\n",
    "    print(von.random(), end=\" \")"
   ]
  },
  {
   "cell_type": "markdown",
   "metadata": {},
   "source": [
    "*Avec la graine 6239, on obtient un flux de nombres pseudo-aléatoires distincts.*"
   ]
  },
  {
   "cell_type": "markdown",
   "metadata": {},
   "source": [
    "Un des moyens de tester si un générateur de nombres pseudo-aléatoire n'est pas trop mauvais, c'est de calculer le nombre d'itération avant qu'il ne \"boucle\", c'est-à-dire qu'il retombe sur un nombre déjà calculé, puisqu'à partir de là il va boucler et redonner les mêmes valeurs."
   ]
  },
  {
   "cell_type": "markdown",
   "metadata": {},
   "source": [
    "- Ecrire une fonction `nombreValeursVN(seed)` qui calcule au bout de combien d'itérations un générateur de Von Neumann de graine `seed` retombe sur une valeur déjà calculée. L'utiliser pour différentes valeurs de graines."
   ]
  },
  {
   "cell_type": "code",
   "execution_count": 14,
   "metadata": {
    "pycharm": {
     "is_executing": false
    }
   },
   "outputs": [],
   "source": [
    "def nombreValeursVN(seed: int):\n",
    "    \"\"\"\n",
    "    Calculer le nombre de tirage avant que le générateur de Von Neumann boucle.\n",
    "    :param seed: Graine de départ.\n",
    "    \"\"\"\n",
    "    von = VonNeumann(seed)\n",
    "    rd, i = von.random(), 0\n",
    "    values = set()\n",
    "    while rd not in values:\n",
    "        values.add(rd)\n",
    "        rd = von.random()\n",
    "        i += 1\n",
    "    return i"
   ]
  },
  {
   "cell_type": "markdown",
   "metadata": {},
   "source": [
    "- Quelle est la graine qui maximise le nombre de valeurs différentes générées ?"
   ]
  },
  {
   "cell_type": "code",
   "execution_count": 15,
   "metadata": {
    "pycharm": {
     "is_executing": false
    }
   },
   "outputs": [
    {
     "name": "stdout",
     "output_type": "stream",
     "text": [
      "La graine 6239 ne boucle qu'après 110 tirages.\n"
     ]
    }
   ],
   "source": [
    "maximum, max_seed = 0, 0\n",
    "for seed in range(10000):\n",
    "    result = nombreValeursVN(seed)\n",
    "    if result > maximum:\n",
    "        maximum = result\n",
    "        max_seed = seed\n",
    "        \n",
    "print(\"La graine {} ne boucle qu'après {} tirages.\".format(max_seed, maximum))"
   ]
  },
  {
   "cell_type": "markdown",
   "metadata": {},
   "source": [
    "- Le générateur de Von Neumann vous semble-t-il être un bon générateur ?"
   ]
  },
  {
   "cell_type": "markdown",
   "metadata": {},
   "source": [
    "*Le générateur de Von Neumann a le mérite d'être simple à comprendre mais ne permet pas de générer un grand nombre de valeurs pseudo-aléatoires sans boucler.*"
   ]
  }
 ],
 "metadata": {
  "kernelspec": {
   "display_name": "Python 3",
   "language": "python",
   "name": "python3"
  },
  "language_info": {
   "codemirror_mode": {
    "name": "ipython",
    "version": 3
   },
   "file_extension": ".py",
   "mimetype": "text/x-python",
   "name": "python",
   "nbconvert_exporter": "python",
   "pygments_lexer": "ipython3",
   "version": "3.7.3"
  },
  "pycharm": {
   "stem_cell": {
    "cell_type": "raw",
    "metadata": {
     "collapsed": false
    },
    "source": []
   }
  }
 },
 "nbformat": 4,
 "nbformat_minor": 2
}
