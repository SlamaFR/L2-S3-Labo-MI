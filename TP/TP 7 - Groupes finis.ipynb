{
 "cells": [
  {
   "cell_type": "markdown",
   "metadata": {},
   "source": [
    "# TP 7 : Groupes finis"
   ]
  },
  {
   "cell_type": "markdown",
   "metadata": {},
   "source": [
    "Dans ce TP, on cherche à :\n",
    "* déterminer si un magma fini (c'est-à-dire un ensemble fini muni d'une loi de composition interne) est un groupe ;\n",
    "* déterminer tous les sous-groupes d'un groupe fini."
   ]
  },
  {
   "cell_type": "markdown",
   "metadata": {},
   "source": [
    "## 1. Classe `Magma`"
   ]
  },
  {
   "cell_type": "markdown",
   "metadata": {},
   "source": [
    "- Créer une classe Magma pour représenter et manipuler les magmas finis.\n",
    "    - Cette classe aura pour attributs :\n",
    "        - `elem` : la liste des éléments du magma ;\n",
    "        - `card` : le nombre d'éléments du magma ;\n",
    "        - `table`: la table (sous forme d'une liste de listes) décrivant la loi de composition interne ;\n",
    "    - La méthode `__init__` pour construire un objet de cette classe prendra comme paramètres (en plus de `self`) :\n",
    "        - `elem` : la liste des éléments du magma ;\n",
    "        - `table`: la table (sous forme d'une liste de listes) décrivant la loi de composition interne.\n",
    "    - Cette classe fournira également une méthode `op` pour calculer le résultat de la composition de deux éléments par la loi de composition interne.\n",
    "\n",
    "Voilà le fonctionnement attendu de cette classe.\n",
    "\n",
    "~~~\n",
    ">>> elem=['a', 'b', 'c', 'd']\n",
    "\n",
    ">>> table=[['a', 'd', 'c', 'd'],\n",
    "           ['b', 'c', 'd', 'a'],\n",
    "           ['a', 'b', 'c', 'd'],\n",
    "           ['b', 'c', 'a', 'd']]\n",
    "\n",
    ">>> E=Magma(elem,table)\n",
    "\n",
    ">>> E.op('a','b')\n",
    "'d'\n",
    "\n",
    ">>> E.op('b','a')\n",
    "'b'\n",
    "~~~"
   ]
  },
  {
   "cell_type": "code",
   "execution_count": 1,
   "metadata": {},
   "outputs": [],
   "source": [
    "class MagmaError(Exception):\n",
    "    pass\n",
    "\n",
    "\n",
    "class Magma:\n",
    "    \n",
    "    def __init__(self, elem: list, table: list):\n",
    "        self.card = len(elem)\n",
    "        \n",
    "        if len(table) != self.card:\n",
    "                raise MagmaError(\"Table non carrée !\")\n",
    "        \n",
    "        for lst in table:\n",
    "            if len(lst) != self.card:\n",
    "                raise MagmaError(\"Table non carrée !\")\n",
    "            for x in lst:\n",
    "                if x not in elem:\n",
    "                    raise MagmaError(f\"Élément {x} étranger !\")\n",
    "        \n",
    "        self.elem = elem\n",
    "        self.table = table\n",
    "        \n",
    "    def op(self, x: str, y: str):\n",
    "        index_x = self.elem.index(x)\n",
    "        index_y = self.elem.index(y)\n",
    "        return self.table[index_x][index_y]"
   ]
  },
  {
   "cell_type": "markdown",
   "metadata": {},
   "source": [
    "- Créer le magma `E` comme dans l'exemple ci-dessus. Calculer $a \\star (b \\star c)$ et $(a \\star b ) \\star c$ dans ce magma à l'aide de la méthode `op`."
   ]
  },
  {
   "cell_type": "code",
   "execution_count": 2,
   "metadata": {},
   "outputs": [
    {
     "name": "stdout",
     "output_type": "stream",
     "text": [
      "a * (b * c) = d\n",
      "(a * b) * c = a\n"
     ]
    }
   ],
   "source": [
    "elem = ['a', 'b', 'c', 'd']\n",
    "\n",
    "table = [['a', 'd', 'c', 'd'],\n",
    "         ['b', 'c', 'd', 'a'],\n",
    "         ['a', 'b', 'c', 'd'],\n",
    "         ['b', 'c', 'a', 'd']]\n",
    "\n",
    "E = Magma(elem, table)\n",
    "\n",
    "print(\"a * (b * c) =\", E.op('a', E.op('b', 'c')))\n",
    "print(\"(a * b) * c =\", E.op(E.op('a', 'b'), 'c'))"
   ]
  },
  {
   "cell_type": "markdown",
   "metadata": {},
   "source": [
    "## 2. Déterminer si un magma fini est un groupe"
   ]
  },
  {
   "cell_type": "markdown",
   "metadata": {},
   "source": [
    "- Ecrire une fonction `est_associatif` qui prend en paramètre un magma `E` et détermine si ce magma est associatif."
   ]
  },
  {
   "cell_type": "code",
   "execution_count": 3,
   "metadata": {},
   "outputs": [],
   "source": [
    "def est_associatif(E: Magma):\n",
    "    for x in E.elem:\n",
    "        for y in E.elem:\n",
    "            for z in E.elem:\n",
    "                if E.op(x, E.op(y, z)) != E.op(E.op(x, y), z):\n",
    "                    return False\n",
    "    return True"
   ]
  },
  {
   "cell_type": "markdown",
   "metadata": {},
   "source": [
    "- Ecrire une fonction `element_neutre` qui prend en paramètre un magma `E` et renvoie l'élément neutre de ce magma (`None` s'il n'y a pas d'élément neutre)."
   ]
  },
  {
   "cell_type": "code",
   "execution_count": 4,
   "metadata": {},
   "outputs": [],
   "source": [
    "def element_neutre(E: Magma):\n",
    "    for e in E.elem:\n",
    "        for i, x in enumerate(E.elem):\n",
    "            if E.op(x, e) != x and E.op(e, x) == x:\n",
    "                break\n",
    "            if i == E.card - 1:\n",
    "                return e\n",
    "    return None"
   ]
  },
  {
   "cell_type": "markdown",
   "metadata": {},
   "source": [
    "- Ecrire une fonction `est_inversible` qui prend en paramètres un magma `E`, l'élément neutre `e` de ce magma et un élément `x`, et détermine si l'élément `x` est inversible."
   ]
  },
  {
   "cell_type": "code",
   "execution_count": 5,
   "metadata": {},
   "outputs": [],
   "source": [
    "def est_inversible(E: Magma, e: str, x: str):\n",
    "    for y in E.elem:\n",
    "        if E.op(x, y) == e and E.op(y, x) == e:\n",
    "            return True\n",
    "    return False"
   ]
  },
  {
   "cell_type": "markdown",
   "metadata": {},
   "source": [
    "- Ecrire une fonction `est_groupe` qui prend en paramètre un magma `E` et détermine si ce magma est un groupe. Cette fonction renverra un couple : un booléen qui indique si le magma est un goupe ou non et un message qui indique quelle propriété n'est pas vérifiée."
   ]
  },
  {
   "cell_type": "code",
   "execution_count": 6,
   "metadata": {},
   "outputs": [],
   "source": [
    "def est_groupe(E: Magma):\n",
    "    if not est_associatif(E):\n",
    "        return (False, \"Non associatif\")\n",
    "    e = element_neutre(E)\n",
    "    if e is None:\n",
    "        return (False, \"Aucun élément neutre\")\n",
    "    for x in E.elem:\n",
    "        if not est_inversible(E, e, x):\n",
    "            return (False, f\"Élement {x} non inversible\")\n",
    "    return (True, \"\")"
   ]
  },
  {
   "cell_type": "markdown",
   "metadata": {},
   "source": [
    "- Tester ces fonctions sur les exemples de magmas de la feuille de TD"
   ]
  },
  {
   "cell_type": "code",
   "execution_count": 7,
   "metadata": {
    "scrolled": false
   },
   "outputs": [
    {
     "name": "stdout",
     "output_type": "stream",
     "text": [
      "M1 - Non - Élement c non inversible\n",
      "M2 - Non - Aucun élément neutre\n",
      "M3 - Oui \n"
     ]
    }
   ],
   "source": [
    "M1 = Magma(['a', 'b', 'c'], [['b', 'a', 'c'], ['a', 'b', 'c'], ['c', 'c', 'c']])\n",
    "M2 = Magma(['a', 'b', 'c'], [['a', 'b', 'c'], ['b', 'b', 'c'], ['b', 'b', 'c']])\n",
    "M3 = Magma(['a', 'b', 'c'], [['b', 'c', 'a'], ['c', 'a', 'b'], ['a', 'b', 'c']])\n",
    "\n",
    "G1 = est_groupe(M1)\n",
    "G2 = est_groupe(M2)\n",
    "G3 = est_groupe(M3)\n",
    "\n",
    "print(\"M1 -\", \"Oui -\" if G1[0] else \"Non -\", G1[1])\n",
    "print(\"M2 -\", \"Oui -\" if G2[0] else \"Non -\", G2[1])\n",
    "print(\"M3 -\", \"Oui\" if G3[0] else \"Non -\", G3[1])"
   ]
  },
  {
   "cell_type": "markdown",
   "metadata": {},
   "source": [
    "## 3. Classe `Groupe`"
   ]
  },
  {
   "cell_type": "markdown",
   "metadata": {},
   "source": [
    "- Créer une classe Magma pour représenter et manipuler les magmas finis.\n",
    "    - Cette classe aura pour attributs :\n",
    "        - `elem` : la liste des éléments du magma ;\n",
    "        - `e` : l'élément neutre ;\n",
    "        - `card` : le nombre d'éléments du magma ;\n",
    "        - `table`: la table (sous forme d'une liste de listes) décrivant la loi de composition interne.\n",
    "    - La méthode `__init__` pour construire un objet de cette classe prendra comme paramètres (en plus de `self`) :\n",
    "        - `elem` : la liste des éléments du magma ;\n",
    "        - `e` : l'élément neutre ;\n",
    "        - `table`: la table (sous forme d'une liste de listes) décrivant la loi de composition interne.\n",
    "    - Cette classe fournira également les méthodes suivantes :\n",
    "        - `op`, pour calculer le résultat de la composition de deux éléments par la loi de composition interne ;\n",
    "        - `inv`, pour calculer l'inverse d'un élément pour la loi de composition interne."
   ]
  },
  {
   "cell_type": "code",
   "execution_count": 8,
   "metadata": {},
   "outputs": [],
   "source": [
    "class GroupeError(Exception):\n",
    "    pass\n",
    "\n",
    "\n",
    "class Groupe:\n",
    "    \n",
    "    def __init__(self, elem: list, e: str, table: list):\n",
    "        self.card = len(elem)\n",
    "        \n",
    "        if len(table) != self.card:\n",
    "                raise GroupeError(\"Table non carrée !\")\n",
    "        \n",
    "        for lst in table:\n",
    "            if len(lst) != self.card:\n",
    "                raise GroupeError(\"Table non carrée !\")\n",
    "            for x in lst:\n",
    "                if x not in elem:\n",
    "                    raise GroupeError(f\"Élément {x} étranger !\")\n",
    "        \n",
    "        self.elem = elem\n",
    "        self.table = table\n",
    "        self.e = e\n",
    "        \n",
    "    def op(self, x: str, y: str):\n",
    "        index_x = self.elem.index(x)\n",
    "        index_y = self.elem.index(y)\n",
    "        return self.table[index_x][index_y]\n",
    "    \n",
    "    def inv(self, x: str):\n",
    "        for y in self.elem:\n",
    "            if self.op(x, y) == self.e:\n",
    "                return y"
   ]
  },
  {
   "cell_type": "markdown",
   "metadata": {},
   "source": [
    "Soit $n\\in \\mathbb{N}$. On pose $Z_n=\\{0,1,\\ldots,n-1\\}$ et on définit la loi de composition interne $\\oplus$ sur $Z_n$ de la façon suivante :\n",
    "$$\n",
    "x \\oplus y\\ = \\ (x + y) \\mod{n}\n",
    "$$\n",
    "Pour tout $n \\in \\mathbb{N}^*$, $(Z_n,\\oplus)$ est un groupe.\n",
    "\n",
    "- Ecrire une fonction `Zn_add` qui prend en paramètre un entier `n` et renvoie un objet de la classe `Groupe` représentant $(Z_n,\\oplus)$."
   ]
  },
  {
   "cell_type": "code",
   "execution_count": 9,
   "metadata": {},
   "outputs": [],
   "source": [
    "def Zn_add(n: int):\n",
    "    elem = list(range(n))\n",
    "    table = list()\n",
    "    for i in elem:\n",
    "        table.append([(i + j) % n for j in elem])\n",
    "    return Groupe(elem, element_neutre(Magma(elem, table)), table)"
   ]
  },
  {
   "cell_type": "markdown",
   "metadata": {},
   "source": [
    "- Créer un objet de la classe `Groupe` représentant $(Z_5,\\oplus)$. Afficher la table de $(Z_5,\\oplus)$."
   ]
  },
  {
   "cell_type": "code",
   "execution_count": 10,
   "metadata": {},
   "outputs": [
    {
     "name": "stdout",
     "output_type": "stream",
     "text": [
      "⊕\t0\t1\t2\t3\t4\n",
      "0\t0\t1\t2\t3\t4\n",
      "1\t1\t2\t3\t4\t0\n",
      "2\t2\t3\t4\t0\t1\n",
      "3\t3\t4\t0\t1\t2\n",
      "4\t4\t0\t1\t2\t3\n"
     ]
    }
   ],
   "source": [
    "G = Zn_add(5)\n",
    "\n",
    "print(\"⊕\", \"\\t\".join(str(x) for x in G.elem), sep='\\t')\n",
    "for x in G.elem:\n",
    "    print(x, \"\\t\".join(str(G.op(x, y)) for y in G.elem), sep='\\t')"
   ]
  },
  {
   "cell_type": "markdown",
   "metadata": {},
   "source": [
    "Soit $n\\in \\mathbb{N}^*$. On pose $Z_n^*=\\{1,\\ldots,n-1\\}$ et on définit la loi de composition interne $\\otimes$ sur $Z_n^*$ de la façon suivante :\n",
    "$$\n",
    "x \\otimes y\\ = \\ xy \\mod{n}\n",
    "$$\n",
    "Pour tout nombre premier $n$, $(Z_n^*,\\otimes)$ est un groupe.\n",
    "- Ecrire une fonction `Zn_mul` qui prend en paramètre un entier `n` et renvoie un objet de la classe `Groupe` représentant $(Z_n^*,\\otimes)$."
   ]
  },
  {
   "cell_type": "code",
   "execution_count": 11,
   "metadata": {},
   "outputs": [],
   "source": [
    "def Zn_mul(n: int):\n",
    "    elem = list(range(1, n))\n",
    "    table = list()\n",
    "    for i in elem:\n",
    "        table.append([(i * j) % n for j in elem])\n",
    "    return Groupe(elem, element_neutre(Magma(elem, table)), table)"
   ]
  },
  {
   "cell_type": "markdown",
   "metadata": {},
   "source": [
    "- Créer un objet de la classe `Groupe` représentant $(Z_{11},\\oplus)$. Afficher la table de $(Z_{11},\\oplus)$."
   ]
  },
  {
   "cell_type": "code",
   "execution_count": 12,
   "metadata": {},
   "outputs": [
    {
     "name": "stdout",
     "output_type": "stream",
     "text": [
      "⊕\t1\t2\t3\t4\t5\t6\t7\t8\t9\t10\n",
      "1\t1\t2\t3\t4\t5\t6\t7\t8\t9\t10\n",
      "2\t2\t4\t6\t8\t10\t1\t3\t5\t7\t9\n",
      "3\t3\t6\t9\t1\t4\t7\t10\t2\t5\t8\n",
      "4\t4\t8\t1\t5\t9\t2\t6\t10\t3\t7\n",
      "5\t5\t10\t4\t9\t3\t8\t2\t7\t1\t6\n",
      "6\t6\t1\t7\t2\t8\t3\t9\t4\t10\t5\n",
      "7\t7\t3\t10\t6\t2\t9\t5\t1\t8\t4\n",
      "8\t8\t5\t2\t10\t7\t4\t1\t9\t6\t3\n",
      "9\t9\t7\t5\t3\t1\t10\t8\t6\t4\t2\n",
      "10\t10\t9\t8\t7\t6\t5\t4\t3\t2\t1\n"
     ]
    }
   ],
   "source": [
    "G = Zn_mul(11)\n",
    "\n",
    "print(\"⊕\", \"\\t\".join(str(x) for x in G.elem), sep='\\t')\n",
    "for x in G.elem:\n",
    "    print(x, \"\\t\".join(str(G.op(x, y)) for y in G.elem), sep='\\t')"
   ]
  },
  {
   "cell_type": "markdown",
   "metadata": {},
   "source": [
    "## 4. Déterminer les sous-groupes d'un groupe fini"
   ]
  },
  {
   "cell_type": "markdown",
   "metadata": {},
   "source": [
    "- Ecrire une fonction qui prend en paramètres un groupe `G` et une liste d'éléments `elemH`, et qui détermine si l'ensemble des éléments de `elemH` forme un sous-groupe de `G`.\n",
    "\n",
    "Par exemple\n",
    "~~~\n",
    ">>> G=Zn_add(8)\n",
    ">>> est_sous_groupe(G,[0,2,4,6])\n",
    "True\n",
    "~~~"
   ]
  },
  {
   "cell_type": "code",
   "execution_count": 13,
   "metadata": {},
   "outputs": [],
   "source": [
    "def est_sous_groupe(G: Groupe, elemH: list):\n",
    "    if G.e not in elemH:\n",
    "        return False\n",
    "    for x in elemH:\n",
    "        if G.inv(x) not in elemH:\n",
    "            return False\n",
    "        for y in elemH:\n",
    "            if G.op(x, y) not in elemH:\n",
    "                return False\n",
    "    return True"
   ]
  },
  {
   "cell_type": "code",
   "execution_count": 14,
   "metadata": {},
   "outputs": [
    {
     "data": {
      "text/plain": [
       "True"
      ]
     },
     "execution_count": 14,
     "metadata": {},
     "output_type": "execute_result"
    }
   ],
   "source": [
    "G = Zn_add(8)\n",
    "est_sous_groupe(G, [0, 2, 4, 6])"
   ]
  },
  {
   "cell_type": "markdown",
   "metadata": {},
   "source": [
    "- Ecrire une fonction `diviseurs` qui renvoie la liste de tous les diviseurs positifs d'un entier."
   ]
  },
  {
   "cell_type": "code",
   "execution_count": 15,
   "metadata": {},
   "outputs": [],
   "source": [
    "def diviseurs(x: int):\n",
    "    result = list()\n",
    "    for y in range(1, x + 1):\n",
    "        if not x % y:\n",
    "            result.append(y)\n",
    "    return result"
   ]
  },
  {
   "cell_type": "markdown",
   "metadata": {},
   "source": [
    "- Ecrire une fonction `sous_groupes` qui prend en paramètre un groupe `G` et renvoie la liste de tous les sous-groupes de `G`. Cette fonction utilisera la stratégie décrite en TD. \n",
    "\n",
    "Pour parcourir les sous-ensembles du groupe, on pourra utiliser l'itérateur `combinations` du module `itertools` (voir exemple ci-dessous)"
   ]
  },
  {
   "cell_type": "code",
   "execution_count": 16,
   "metadata": {},
   "outputs": [
    {
     "name": "stdout",
     "output_type": "stream",
     "text": [
      "('a', 'b', 'c')\n",
      "('a', 'b', 'd')\n",
      "('a', 'b', 'e')\n",
      "('a', 'c', 'd')\n",
      "('a', 'c', 'e')\n",
      "('a', 'd', 'e')\n",
      "('b', 'c', 'd')\n",
      "('b', 'c', 'e')\n",
      "('b', 'd', 'e')\n",
      "('c', 'd', 'e')\n"
     ]
    }
   ],
   "source": [
    "from itertools import combinations\n",
    "for elemH in combinations(['a','b','c','d','e'],3):\n",
    "    print(elemH)"
   ]
  },
  {
   "cell_type": "code",
   "execution_count": 17,
   "metadata": {},
   "outputs": [],
   "source": [
    "def sous_groupes(G: Groupe):\n",
    "    result = list()\n",
    "    for c in diviseurs(G.card):\n",
    "        for elemH in combinations(G.elem, c):\n",
    "            if est_sous_groupe(G, elemH):\n",
    "                table = list()\n",
    "                for x in elemH:\n",
    "                    table.append([G.op(x, y) for y in elemH])\n",
    "                result.append(Groupe(elemH, G.e, table))\n",
    "    return result"
   ]
  },
  {
   "cell_type": "markdown",
   "metadata": {},
   "source": [
    "- Déterminer les sous-groupes du groupe $(D_3,\\circ)$ à l'aide de la fonction `sous_groupes`."
   ]
  },
  {
   "cell_type": "code",
   "execution_count": 18,
   "metadata": {
    "scrolled": false
   },
   "outputs": [
    {
     "name": "stdout",
     "output_type": "stream",
     "text": [
      "[('r0',), ('r0', 's0'), ('r0', 's1'), ('r0', 's2'), ('r0', 'r1', 'r2'), ('r0', 'r1', 'r2', 's0', 's1', 's2')]\n"
     ]
    }
   ],
   "source": [
    "elem = ['r0', 'r1', 'r2', 's0', 's1', 's2']\n",
    "table = [['r0', 'r1', 'r2', 's0', 's1', 's2'],\n",
    "         ['r1', 'r2', 'r0', 's1', 's2', 's0'],\n",
    "         ['r2', 'r0', 'r1', 's2', 's0', 's1'],\n",
    "         ['s0', 's2', 's1', 'r0', 'r2', 'r1'],\n",
    "         ['s1', 's0', 's2', 'r1', 'r0', 'r2'],\n",
    "         ['s2', 's1', 's0', 'r2', 'r1', 'r0']]\n",
    "D3 = Groupe(elem, 'r0', table)\n",
    "\n",
    "print([H.elem for H in sous_groupes(D3)])"
   ]
  }
 ],
 "metadata": {
  "kernelspec": {
   "display_name": "Python 3",
   "language": "python",
   "name": "python3"
  },
  "language_info": {
   "codemirror_mode": {
    "name": "ipython",
    "version": 3
   },
   "file_extension": ".py",
   "mimetype": "text/x-python",
   "name": "python",
   "nbconvert_exporter": "python",
   "pygments_lexer": "ipython3",
   "version": "3.7.3"
  }
 },
 "nbformat": 4,
 "nbformat_minor": 1
}
