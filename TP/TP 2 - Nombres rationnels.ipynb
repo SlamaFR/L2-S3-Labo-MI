{
 "cells": [
  {
   "cell_type": "markdown",
   "metadata": {},
   "source": [
    "# TP 2 : Nombres rationnels"
   ]
  },
  {
   "cell_type": "markdown",
   "metadata": {},
   "source": [
    "L'objectif principal de ce TP est d'écrire une classe pour représenter et manipuler les nombres rationnels. On propose ensuite quelques applications de cette classe."
   ]
  },
  {
   "cell_type": "markdown",
   "metadata": {},
   "source": [
    "## 1. Création d'une classe `Rat`"
   ]
  },
  {
   "cell_type": "markdown",
   "metadata": {},
   "source": [
    "- Créer une classe `Rat` pour représenter et manipuler les nombres rationnels. On veillera à insérer des tests appropriés dans les chaînes de documentation (*docstrings*) des différentes méthode de la classe `Rat`.\n",
    "\n",
    "Voilà le comportement attendu de cette classe.\n",
    "\n",
    "~~~\n",
    ">>> Rat(2,3)\n",
    "2/3\n",
    "\n",
    ">>> Rat(21,14)\n",
    "3/2\n",
    "\n",
    ">>> Rat(4,2)\n",
    "2\n",
    "\n",
    ">>> Rat(4)\n",
    "4\n",
    "\n",
    ">>> Rat(1,2)+Rat(5,4)\n",
    "7/4\n",
    "\n",
    ">>> -Rat(1,2)\n",
    "-1/2\n",
    "\n",
    ">>> (Rat(3,2)*Rat(5,7)-Rat(1))/Rat(3,4)\n",
    "2/21\n",
    "\n",
    ">>> Rat(5,3) > Rat (11,2)\n",
    "False\n",
    "\n",
    ">>> Rat(1,2) == Rat(3,6)\n",
    "True\n",
    "~~~"
   ]
  },
  {
   "cell_type": "code",
   "execution_count": 2,
   "metadata": {
    "pycharm": {
     "is_executing": false
    }
   },
   "outputs": [],
   "source": [
    "from math import gcd\n",
    "\n",
    "class Rat:\n",
    "    \n",
    "    def __init__(self, n: int, p: int=1):\n",
    "        \n",
    "        if not isinstance(n, int):\n",
    "            raise TypeError(\"Le numérateur doit être un entier.\")\n",
    "        if not isinstance(p, int):\n",
    "            raise TypeError(\"Le dénominateur doit être un entier.\")\n",
    "        if p == 0:\n",
    "            raise ValueError(\"Le dénominateur ne doit pas être nul.\")\n",
    "        \n",
    "        self.n = n if p >= 0 else -n\n",
    "        self.p = p if p >= 0 else -p\n",
    "        while gcd(self.n, self.p) > 1:\n",
    "            pgcd = gcd(self.n, self.p)\n",
    "            self.n //= pgcd\n",
    "            self.p //= pgcd\n",
    "    \n",
    "    def __add__(self, other):\n",
    "        \"\"\"\n",
    "        Additionner deux rationnels.\n",
    "        :param other: Autre rationnel.\n",
    "        :return: Résultat de l'opération.\n",
    "        \n",
    "        >>> Rat(1, 4) + Rat(2, 4)\n",
    "        3/4\n",
    "        \"\"\"\n",
    "        return Rat(self.n * other.p + self.p * other.n, self.p * other.p)\n",
    "    \n",
    "    def __sub__(self, other):\n",
    "        \"\"\"\n",
    "        Soustraire deux rationnels.\n",
    "        :param other: Autre rationnel.\n",
    "        :return: Résultat de l'opération.\n",
    "        \n",
    "        >>> Rat(3, 4) - Rat(2, 4)\n",
    "        1/4\n",
    "        \"\"\"\n",
    "        return Rat(self.n * other.p - self.p * other.n, self.p * other.p)\n",
    "    \n",
    "    def __neg__(self):\n",
    "        \"\"\"\n",
    "        Obtenir l'opposé d'un rationnel.\n",
    "        :return: Résultat de l'opération.\n",
    "        \n",
    "        >>> -Rat(3, 4)\n",
    "        -3/4\n",
    "        \"\"\"\n",
    "        return Rat(-self.n, self.p)\n",
    "    \n",
    "    def __mul__(self, other):\n",
    "        \"\"\"\n",
    "        Multiplier deux rationnels.\n",
    "        :param other: Autre rationnel.\n",
    "        :return: Résultat de l'opération.\n",
    "        \n",
    "        >>> Rat(3, 4) * Rat(2, 4)\n",
    "        3/8\n",
    "        \"\"\"\n",
    "        return Rat(self.n *  other.n, self.p * other.p)\n",
    "    \n",
    "    def __truediv__(self, other):\n",
    "        \"\"\"\n",
    "        Diviser deux rationnels.\n",
    "        :param other: Autre rationnel.\n",
    "        :return: Résultat de l'opération.\n",
    "        \n",
    "        >>> Rat(3, 4) / Rat(2, 4)\n",
    "        3/2\n",
    "        \"\"\"\n",
    "        return Rat(self.n * other.p, self.p * other.n)\n",
    "    \n",
    "    def __lt__(self, other):\n",
    "        \"\"\"\n",
    "        Vérifier l'ordre croissant de deux rationnels.\n",
    "        :param other: Autre rationnel.\n",
    "        :return: Résultat de l'opération.\n",
    "        \n",
    "        >>> Rat(3, 4) < Rat(6, 4)\n",
    "        True\n",
    "        \"\"\"\n",
    "        return other.p * self.n < other.n * self.p\n",
    "    \n",
    "    def __gt__(self, other):\n",
    "        \"\"\"\n",
    "        Vérifier l'ordre décroissant de deux rationnels.\n",
    "        :param other: Autre rationnel.\n",
    "        :return: Résultat de l'opération.\n",
    "        \n",
    "        >>> Rat(6, 4) > Rat(3, 4)\n",
    "        True\n",
    "        \"\"\"\n",
    "        return other.p * self.n > other.n * self.p\n",
    "    \n",
    "    def __eq__(self, other):\n",
    "        \"\"\"\n",
    "        Vérifier l'égalité de deux rationnels.\n",
    "        :param other: Autre rationnel.\n",
    "        :return: Résultat de l'opération.\n",
    "        \n",
    "        >>> Rat(3, 4) == Rat(6, 8)\n",
    "        True\n",
    "        \"\"\"\n",
    "        return other.p * self.n == other.n * self.p\n",
    "    \n",
    "    def __str__(self):\n",
    "        if self.p == 1:\n",
    "            return str(self.n)\n",
    "        return str(self.n) + \"/\" + str(self.p)\n",
    "    \n",
    "    def __repr__(self):\n",
    "        if self.p == 1:\n",
    "            return str(self.n)\n",
    "        return str(self.n) + \"/\" + str(self.p)"
   ]
  },
  {
   "cell_type": "markdown",
   "metadata": {},
   "source": [
    "- Tester la classe `Rat` avec la commande `testmod` du module `doctest`.\n"
   ]
  },
  {
   "cell_type": "code",
   "execution_count": 3,
   "metadata": {
    "pycharm": {
     "is_executing": false
    }
   },
   "outputs": [
    {
     "data": {
      "text/plain": "TestResults(failed=0, attempted=8)"
     },
     "metadata": {},
     "output_type": "execute_result",
     "execution_count": 3
    }
   ],
   "source": [
    "from doctest import testmod\n",
    "\n",
    "testmod()"
   ]
  },
  {
   "cell_type": "markdown",
   "metadata": {},
   "source": [
    "## 2. Démêler des rationnels"
   ]
  },
  {
   "cell_type": "markdown",
   "metadata": {},
   "source": [
    "On considère l'algorithme qui applique récursivement les transformations suivantes sur un nombre rationnel :\n",
    "- si ce nombre rationnel est négatif, on lui ajoute 1 ;\n",
    "- si ce nombre rationnel est positif, on le transforme en l'opposé de son inverse ($r$ devient $\\displaystyle -\\frac{1}{r} \n",
    "$) ;\n",
    "- si ce nombre rationnel est nul, on s'arrête.\n",
    "\n",
    "Ecrire une fonction qui applique cet algorithme à un nombre rationnel donné et affiche la suite de nombres rationnels ainsi produite."
   ]
  },
  {
   "cell_type": "code",
   "execution_count": 4,
   "metadata": {
    "pycharm": {
     "is_executing": false
    },
    "scrolled": false
   },
   "outputs": [],
   "source": [
    "def demeler(rat: Rat):\n",
    "    if rat < Rat(0):\n",
    "        return demeler(rat + Rat(1))\n",
    "    elif rat > Rat(0):\n",
    "        return demeler(-Rat(1) / rat)\n",
    "    else:\n",
    "        return rat"
   ]
  },
  {
   "cell_type": "markdown",
   "metadata": {},
   "source": [
    "- Tester cette fonction."
   ]
  },
  {
   "cell_type": "code",
   "execution_count": 5,
   "metadata": {
    "pycharm": {
     "is_executing": false
    }
   },
   "outputs": [
    {
     "name": "stdout",
     "text": [
      "0\n"
     ],
     "output_type": "stream"
    }
   ],
   "source": [
    "print(demeler(Rat(5, 8)))"
   ]
  },
  {
   "cell_type": "markdown",
   "metadata": {},
   "source": [
    "## 3. Résoudre des systèmes triangulaires à coefficients entiers"
   ]
  },
  {
   "cell_type": "markdown",
   "metadata": {},
   "source": [
    "On cherche à automatiser la résolution de systèmes linéaires triangulaires à coefficients entiers. Par souci de simplicité, on ne considère que des systèmes triangulaires inférieurs, la transposition au cas supérieur étant immédiate.\n",
    "\n",
    "**Exemple.** Système linéaire triangulaire inférieur de taille $4$.\n",
    "\n",
    "$$\n",
    "\\left\\{\n",
    "\\begin{array}{ccccccccc}\n",
    "3 x_1 &&&&&&&=& 5 \\\\\n",
    "- x_1 & + & x_2 &&&&&=& 1 \\\\\n",
    "x_1 &\t- & 5 x_2 &\t+ & 2 x_3&&&=& -4 \\\\\n",
    "-2 x_1 &\t+  & 2 x_2 & + & 3 x_3 & + & 4 x_4 &=& 1\n",
    "\\end{array}\\right.\n",
    "$$\n",
    "\n",
    "\n",
    "Un système linéaire triangulaire inférieur possède une unique solution $(x_1,\\ldots,x_n)$ si et seulement si ses coefficients diagonaux sont tous non-nuls. Cette solution peut alors être obtenue par une méthode dite de descente : on calcule $x_1$ avec la première équation ; dans la deuxième équation, on remplace l'inconnue $x_1$ par la valeur précédemment trouvée et on calcule $x_2$ ; dans la troisième équation, on remplace les inconnues $x_1$ et $x_2$ par les valeurs précédemment trouvées et on calcule $x_3$ ; etc.\n",
    "\n",
    "Par ailleurs, dans le cas où les coefficients d'un système linéaire (triangulaire ou non) sont tous entiers et la solution est unique, les composantes $x_1,\\ldots,x_n$ de la solution sont nécessairement des nombres rationnels."
   ]
  },
  {
   "cell_type": "markdown",
   "metadata": {},
   "source": [
    "Informatiquement, on choisit de représenter un système linéaire par :\n",
    " - une liste de listes pour les coefficients de la partie matricielle, \n",
    " - une liste pour les coefficients du second membre.\n",
    " \n",
    "Voilà par exemple comment l'on représente le système linéaire $(\\star)$."
   ]
  },
  {
   "cell_type": "code",
   "execution_count": 6,
   "metadata": {
    "pycharm": {
     "is_executing": false
    }
   },
   "outputs": [],
   "source": [
    "A = [[Rat(3)],[Rat(-1),Rat(1)],[Rat(1),Rat(-5),Rat(2)],[Rat(-2),Rat(2),Rat(3),Rat(4)]]\n",
    "b = [Rat(5),Rat(1),Rat(-4),Rat(1)]"
   ]
  },
  {
   "cell_type": "markdown",
   "metadata": {},
   "source": [
    "- Ecrire une fonction qui prend en paramètre la représentation d'un système linéaire triangulaire inférieur et renvoie la solution de ce système."
   ]
  },
  {
   "cell_type": "code",
   "execution_count": 15,
   "metadata": {
    "pycharm": {
     "is_executing": false
    }
   },
   "outputs": [],
   "source": [
    "def solve(a: list, b: list):\n",
    "    \"\"\"\n",
    "    Résoudre un système linéaire triangulaire inférieur.\n",
    "    :param a: Liste des coefficients de la partie matricielle.\n",
    "    :param b: Liste des coefficients du second membre.\n",
    "    :return: Unique couple de solution.\n",
    "    \"\"\"\n",
    "    solution = list()\n",
    "    n = len(a)\n",
    "    for i in range(n):\n",
    "        x = Rat(0)\n",
    "        for j in range(i):\n",
    "            x += a[i][j] * solution[j]\n",
    "        solution.append((b[i] - x) / A[i][i])\n",
    "    return solution"
   ]
  },
  {
   "cell_type": "code",
   "execution_count": 14,
   "metadata": {
    "pycharm": {
     "is_executing": false
    }
   },
   "outputs": [
    {
     "name": "stdout",
     "text": [
      "4 20\n"
     ],
     "output_type": "stream"
    },
    {
     "data": {
      "text/plain": "[5/3, 8/3, 23/6, -25/8]"
     },
     "metadata": {},
     "output_type": "execute_result",
     "execution_count": 14
    }
   ],
   "source": [
    "solve(A, b)"
   ]
  },
  {
   "cell_type": "markdown",
   "metadata": {},
   "source": [
    "- Compter le nombre d'opérations (additions/soustractions, multiplications, divisions) effectuées par l'algorithme de descente pour résoudre un système triangulaire de taille $n$."
   ]
  },
  {
   "cell_type": "markdown",
   "metadata": {},
   "source": [
    "Le nombre d'opérations en fonction de $n$ est : $O(n^2)$"
   ]
  }
 ],
 "metadata": {
  "kernelspec": {
   "display_name": "Python 3",
   "language": "python",
   "name": "python3"
  },
  "language_info": {
   "codemirror_mode": {
    "name": "ipython",
    "version": 3
   },
   "file_extension": ".py",
   "mimetype": "text/x-python",
   "name": "python",
   "nbconvert_exporter": "python",
   "pygments_lexer": "ipython3",
   "version": "3.7.4"
  },
  "pycharm": {
   "stem_cell": {
    "cell_type": "raw",
    "source": [],
    "metadata": {
     "collapsed": false
    }
   }
  }
 },
 "nbformat": 4,
 "nbformat_minor": 1
}